{
 "cells": [
  {
   "cell_type": "code",
   "execution_count": 9,
   "id": "f164478c",
   "metadata": {},
   "outputs": [],
   "source": [
    "import pandas as pd\n",
    "import numpy as np\n",
    "import matplotlib.pyplot as plt\n",
    "\n",
    "import tensorflow as tf\n",
    "from tensorflow.keras import layers\n",
    "from tensorflow.keras.models import Model\n",
    "from tensorflow.keras.optimizers import Adam\n",
    "from tensorflow.keras.layers import Activation,BatchNormalization,Input,Embedding,Dot,Dense,Flatten\n",
    "from tensorflow.keras.callbacks import ModelCheckpoint,LearningRateScheduler,TensorBoard,EarlyStopping\n",
    "\n",
    "from wordcloud import WordCloud\n",
    "%matplotlib inline\n"
   ]
  },
  {
   "cell_type": "code",
   "execution_count": 8,
   "id": "9f47a7e3",
   "metadata": {},
   "outputs": [
    {
     "name": "stdout",
     "output_type": "stream",
     "text": [
      "Collecting matplotlib\n",
      "  Using cached matplotlib-3.10.7-cp312-cp312-win_amd64.whl.metadata (11 kB)\n",
      "Collecting wordcloud\n",
      "  Downloading wordcloud-1.9.4-cp312-cp312-win_amd64.whl.metadata (3.5 kB)\n",
      "Collecting contourpy>=1.0.1 (from matplotlib)\n",
      "  Using cached contourpy-1.3.3-cp312-cp312-win_amd64.whl.metadata (5.5 kB)\n",
      "Collecting cycler>=0.10 (from matplotlib)\n",
      "  Using cached cycler-0.12.1-py3-none-any.whl.metadata (3.8 kB)\n",
      "Collecting fonttools>=4.22.0 (from matplotlib)\n",
      "  Using cached fonttools-4.60.1-cp312-cp312-win_amd64.whl.metadata (114 kB)\n",
      "Collecting kiwisolver>=1.3.1 (from matplotlib)\n",
      "  Using cached kiwisolver-1.4.9-cp312-cp312-win_amd64.whl.metadata (6.4 kB)\n",
      "Requirement already satisfied: numpy>=1.23 in d:\\aiml\\mlops\\mlops-project2\\venv\\lib\\site-packages (from matplotlib) (2.3.4)\n",
      "Requirement already satisfied: packaging>=20.0 in d:\\aiml\\mlops\\mlops-project2\\venv\\lib\\site-packages (from matplotlib) (25.0)\n",
      "Requirement already satisfied: pillow>=8 in d:\\aiml\\mlops\\mlops-project2\\venv\\lib\\site-packages (from matplotlib) (12.0.0)\n",
      "Requirement already satisfied: pyparsing>=3 in d:\\aiml\\mlops\\mlops-project2\\venv\\lib\\site-packages (from matplotlib) (3.2.5)\n",
      "Requirement already satisfied: python-dateutil>=2.7 in d:\\aiml\\mlops\\mlops-project2\\venv\\lib\\site-packages (from matplotlib) (2.9.0.post0)\n",
      "Requirement already satisfied: six>=1.5 in d:\\aiml\\mlops\\mlops-project2\\venv\\lib\\site-packages (from python-dateutil>=2.7->matplotlib) (1.17.0)\n",
      "Using cached matplotlib-3.10.7-cp312-cp312-win_amd64.whl (8.1 MB)\n",
      "Downloading wordcloud-1.9.4-cp312-cp312-win_amd64.whl (301 kB)\n",
      "   ---------------------------------------- 0.0/301.2 kB ? eta -:--:--\n",
      "   ---------------------------------------- 301.2/301.2 kB 9.4 MB/s eta 0:00:00\n",
      "Using cached contourpy-1.3.3-cp312-cp312-win_amd64.whl (226 kB)\n",
      "Using cached cycler-0.12.1-py3-none-any.whl (8.3 kB)\n",
      "Using cached fonttools-4.60.1-cp312-cp312-win_amd64.whl (2.3 MB)\n",
      "Using cached kiwisolver-1.4.9-cp312-cp312-win_amd64.whl (73 kB)\n",
      "Installing collected packages: kiwisolver, fonttools, cycler, contourpy, matplotlib, wordcloud\n",
      "Successfully installed contourpy-1.3.3 cycler-0.12.1 fonttools-4.60.1 kiwisolver-1.4.9 matplotlib-3.10.7 wordcloud-1.9.4\n"
     ]
    },
    {
     "name": "stderr",
     "output_type": "stream",
     "text": [
      "\n",
      "[notice] A new release of pip is available: 24.0 -> 25.2\n",
      "[notice] To update, run: python.exe -m pip install --upgrade pip\n"
     ]
    }
   ],
   "source": [
    "!pip install matplotlib wordcloud"
   ]
  },
  {
   "cell_type": "markdown",
   "id": "2c58eb96",
   "metadata": {},
   "source": [
    "### READING ANIMELIST.CSV"
   ]
  },
  {
   "cell_type": "code",
   "execution_count": 2,
   "id": "426476b1",
   "metadata": {},
   "outputs": [],
   "source": [
    "import os"
   ]
  },
  {
   "cell_type": "code",
   "execution_count": 10,
   "id": "5f40a9c5",
   "metadata": {},
   "outputs": [],
   "source": [
    "INPUT_DIR = os.path.join(\"..\", \"artifacts\", \"raw\")"
   ]
  },
  {
   "cell_type": "code",
   "execution_count": 11,
   "id": "65821d53",
   "metadata": {},
   "outputs": [],
   "source": [
    "rating_df = pd.read_csv(INPUT_DIR+\"/animelist.csv\" , low_memory=True,usecols=[\"user_id\",\"anime_id\",\"rating\"])"
   ]
  },
  {
   "cell_type": "code",
   "execution_count": 13,
   "id": "ceccd933",
   "metadata": {},
   "outputs": [
    {
     "data": {
      "text/html": [
       "<div>\n",
       "<style scoped>\n",
       "    .dataframe tbody tr th:only-of-type {\n",
       "        vertical-align: middle;\n",
       "    }\n",
       "\n",
       "    .dataframe tbody tr th {\n",
       "        vertical-align: top;\n",
       "    }\n",
       "\n",
       "    .dataframe thead th {\n",
       "        text-align: right;\n",
       "    }\n",
       "</style>\n",
       "<table border=\"1\" class=\"dataframe\">\n",
       "  <thead>\n",
       "    <tr style=\"text-align: right;\">\n",
       "      <th></th>\n",
       "      <th>user_id</th>\n",
       "      <th>anime_id</th>\n",
       "      <th>rating</th>\n",
       "    </tr>\n",
       "  </thead>\n",
       "  <tbody>\n",
       "    <tr>\n",
       "      <th>0</th>\n",
       "      <td>0</td>\n",
       "      <td>67</td>\n",
       "      <td>9</td>\n",
       "    </tr>\n",
       "    <tr>\n",
       "      <th>1</th>\n",
       "      <td>0</td>\n",
       "      <td>6702</td>\n",
       "      <td>7</td>\n",
       "    </tr>\n",
       "    <tr>\n",
       "      <th>2</th>\n",
       "      <td>0</td>\n",
       "      <td>242</td>\n",
       "      <td>10</td>\n",
       "    </tr>\n",
       "    <tr>\n",
       "      <th>3</th>\n",
       "      <td>0</td>\n",
       "      <td>4898</td>\n",
       "      <td>0</td>\n",
       "    </tr>\n",
       "    <tr>\n",
       "      <th>4</th>\n",
       "      <td>0</td>\n",
       "      <td>21</td>\n",
       "      <td>10</td>\n",
       "    </tr>\n",
       "  </tbody>\n",
       "</table>\n",
       "</div>"
      ],
      "text/plain": [
       "   user_id  anime_id  rating\n",
       "0        0        67       9\n",
       "1        0      6702       7\n",
       "2        0       242      10\n",
       "3        0      4898       0\n",
       "4        0        21      10"
      ]
     },
     "execution_count": 13,
     "metadata": {},
     "output_type": "execute_result"
    }
   ],
   "source": [
    "rating_df.head()"
   ]
  },
  {
   "cell_type": "code",
   "execution_count": 14,
   "id": "a5b8a4c6",
   "metadata": {},
   "outputs": [
    {
     "data": {
      "text/plain": [
       "5000000"
      ]
     },
     "execution_count": 14,
     "metadata": {},
     "output_type": "execute_result"
    }
   ],
   "source": [
    "len(rating_df)"
   ]
  },
  {
   "cell_type": "markdown",
   "id": "fe3fc194",
   "metadata": {},
   "source": [
    "#### DATA PROCESSING"
   ]
  },
  {
   "cell_type": "code",
   "execution_count": 16,
   "id": "dd659a54",
   "metadata": {},
   "outputs": [],
   "source": [
    "n_ratings = rating_df[\"user_id\"].value_counts()\n",
    "rating_df = rating_df[rating_df[\"user_id\"].isin(n_ratings[n_ratings>=400].index)].copy()"
   ]
  },
  {
   "cell_type": "code",
   "execution_count": 18,
   "id": "7ed11783",
   "metadata": {},
   "outputs": [
    {
     "data": {
      "text/plain": [
       "3246641"
      ]
     },
     "execution_count": 18,
     "metadata": {},
     "output_type": "execute_result"
    }
   ],
   "source": [
    "len(rating_df)"
   ]
  },
  {
   "cell_type": "code",
   "execution_count": 30,
   "id": "99b448d8",
   "metadata": {},
   "outputs": [],
   "source": [
    "min_rating=min(rating_df[\"rating\"])"
   ]
  },
  {
   "cell_type": "code",
   "execution_count": 31,
   "id": "17024071",
   "metadata": {},
   "outputs": [
    {
     "data": {
      "text/plain": [
       "0.0"
      ]
     },
     "execution_count": 31,
     "metadata": {},
     "output_type": "execute_result"
    }
   ],
   "source": [
    "min_rating"
   ]
  },
  {
   "cell_type": "code",
   "execution_count": 32,
   "id": "13dc4e2b",
   "metadata": {},
   "outputs": [],
   "source": [
    "max_rating=max(rating_df[\"rating\"])"
   ]
  },
  {
   "cell_type": "code",
   "execution_count": 33,
   "id": "a4001762",
   "metadata": {},
   "outputs": [
    {
     "data": {
      "text/plain": [
       "1.0"
      ]
     },
     "execution_count": 33,
     "metadata": {},
     "output_type": "execute_result"
    }
   ],
   "source": [
    "max_rating"
   ]
  },
  {
   "cell_type": "code",
   "execution_count": 28,
   "id": "0b2734f6",
   "metadata": {},
   "outputs": [],
   "source": [
    "avg_rating=np.mean(rating_df[\"rating\"])"
   ]
  },
  {
   "cell_type": "code",
   "execution_count": 29,
   "id": "fbdf2371",
   "metadata": {},
   "outputs": [
    {
     "data": {
      "text/plain": [
       "np.float64(0.4122732695114736)"
      ]
     },
     "execution_count": 29,
     "metadata": {},
     "output_type": "execute_result"
    }
   ],
   "source": [
    "avg_rating"
   ]
  },
  {
   "cell_type": "code",
   "execution_count": 26,
   "id": "9ac8f78f",
   "metadata": {},
   "outputs": [],
   "source": [
    "rating_df[\"rating\"] = rating_df[\"rating\"].apply(lambda x: (x-min_rating)/(max_rating-min_rating)).values.astype(np.float64)"
   ]
  },
  {
   "cell_type": "code",
   "execution_count": 35,
   "id": "e84dce79",
   "metadata": {},
   "outputs": [
    {
     "data": {
      "text/plain": [
       "np.int64(0)"
      ]
     },
     "execution_count": 35,
     "metadata": {},
     "output_type": "execute_result"
    }
   ],
   "source": [
    "rating_df.duplicated().sum()"
   ]
  },
  {
   "cell_type": "code",
   "execution_count": 36,
   "id": "2527f872",
   "metadata": {},
   "outputs": [
    {
     "data": {
      "text/plain": [
       "user_id     0\n",
       "anime_id    0\n",
       "rating      0\n",
       "dtype: int64"
      ]
     },
     "execution_count": 36,
     "metadata": {},
     "output_type": "execute_result"
    }
   ],
   "source": [
    "rating_df.isnull().sum()"
   ]
  },
  {
   "cell_type": "code",
   "execution_count": 39,
   "id": "e21733ab",
   "metadata": {},
   "outputs": [],
   "source": [
    "user_ids = rating_df[\"user_id\"].unique().tolist()\n",
    "user2user_encoded = {x : i for i , x in enumerate(user_ids)}\n",
    "user2user_decoded = {i : x for i , x in enumerate(user_ids)}\n",
    "rating_df[\"user\"] = rating_df[\"user_id\"].map(user2user_encoded)"
   ]
  },
  {
   "cell_type": "code",
   "execution_count": 42,
   "id": "07f48515",
   "metadata": {},
   "outputs": [
    {
     "data": {
      "text/html": [
       "<div>\n",
       "<style scoped>\n",
       "    .dataframe tbody tr th:only-of-type {\n",
       "        vertical-align: middle;\n",
       "    }\n",
       "\n",
       "    .dataframe tbody tr th {\n",
       "        vertical-align: top;\n",
       "    }\n",
       "\n",
       "    .dataframe thead th {\n",
       "        text-align: right;\n",
       "    }\n",
       "</style>\n",
       "<table border=\"1\" class=\"dataframe\">\n",
       "  <thead>\n",
       "    <tr style=\"text-align: right;\">\n",
       "      <th></th>\n",
       "      <th>user_id</th>\n",
       "      <th>anime_id</th>\n",
       "      <th>rating</th>\n",
       "      <th>user</th>\n",
       "    </tr>\n",
       "  </thead>\n",
       "  <tbody>\n",
       "    <tr>\n",
       "      <th>213</th>\n",
       "      <td>2</td>\n",
       "      <td>24833</td>\n",
       "      <td>0.0</td>\n",
       "      <td>0</td>\n",
       "    </tr>\n",
       "    <tr>\n",
       "      <th>214</th>\n",
       "      <td>2</td>\n",
       "      <td>235</td>\n",
       "      <td>1.0</td>\n",
       "      <td>0</td>\n",
       "    </tr>\n",
       "    <tr>\n",
       "      <th>215</th>\n",
       "      <td>2</td>\n",
       "      <td>36721</td>\n",
       "      <td>0.0</td>\n",
       "      <td>0</td>\n",
       "    </tr>\n",
       "    <tr>\n",
       "      <th>216</th>\n",
       "      <td>2</td>\n",
       "      <td>40956</td>\n",
       "      <td>0.0</td>\n",
       "      <td>0</td>\n",
       "    </tr>\n",
       "    <tr>\n",
       "      <th>217</th>\n",
       "      <td>2</td>\n",
       "      <td>31933</td>\n",
       "      <td>0.0</td>\n",
       "      <td>0</td>\n",
       "    </tr>\n",
       "  </tbody>\n",
       "</table>\n",
       "</div>"
      ],
      "text/plain": [
       "     user_id  anime_id  rating  user\n",
       "213        2     24833     0.0     0\n",
       "214        2       235     1.0     0\n",
       "215        2     36721     0.0     0\n",
       "216        2     40956     0.0     0\n",
       "217        2     31933     0.0     0"
      ]
     },
     "execution_count": 42,
     "metadata": {},
     "output_type": "execute_result"
    }
   ],
   "source": [
    "rating_df.head()"
   ]
  },
  {
   "cell_type": "code",
   "execution_count": 43,
   "id": "c46ba106",
   "metadata": {},
   "outputs": [],
   "source": [
    "n_users = len(user2user_encoded)"
   ]
  },
  {
   "cell_type": "code",
   "execution_count": 44,
   "id": "a54c88c1",
   "metadata": {},
   "outputs": [
    {
     "data": {
      "text/plain": [
       "4203"
      ]
     },
     "execution_count": 44,
     "metadata": {},
     "output_type": "execute_result"
    }
   ],
   "source": [
    "n_users"
   ]
  },
  {
   "cell_type": "code",
   "execution_count": null,
   "id": "4a52e1ea",
   "metadata": {},
   "outputs": [],
   "source": [
    "## 11054 : 12  -> user2user encoded\n",
    "## 12 : 11054 ---> usser2userdecocded"
   ]
  },
  {
   "cell_type": "code",
   "execution_count": 45,
   "id": "36c1a32f",
   "metadata": {},
   "outputs": [],
   "source": [
    "anime_ids = rating_df[\"anime_id\"].unique().tolist()\n",
    "anime2anime_encoded = {x : i for i , x in enumerate(anime_ids)}\n",
    "anime2anime_decoded = {i : x for i , x in enumerate(anime_ids)}\n",
    "rating_df[\"anime\"] = rating_df[\"anime_id\"].map(anime2anime_encoded)"
   ]
  },
  {
   "cell_type": "code",
   "execution_count": 46,
   "id": "fb448631",
   "metadata": {},
   "outputs": [],
   "source": [
    "n_anime = len(anime2anime_encoded)"
   ]
  },
  {
   "cell_type": "code",
   "execution_count": 47,
   "id": "70a004fa",
   "metadata": {},
   "outputs": [
    {
     "data": {
      "text/plain": [
       "17149"
      ]
     },
     "execution_count": 47,
     "metadata": {},
     "output_type": "execute_result"
    }
   ],
   "source": [
    "n_anime"
   ]
  },
  {
   "cell_type": "code",
   "execution_count": 48,
   "id": "12c93771",
   "metadata": {},
   "outputs": [],
   "source": [
    "rating_df = rating_df.sample(frac=1,random_state=43).reset_index(drop=True)"
   ]
  },
  {
   "cell_type": "code",
   "execution_count": 49,
   "id": "33e9b645",
   "metadata": {},
   "outputs": [
    {
     "data": {
      "text/html": [
       "<div>\n",
       "<style scoped>\n",
       "    .dataframe tbody tr th:only-of-type {\n",
       "        vertical-align: middle;\n",
       "    }\n",
       "\n",
       "    .dataframe tbody tr th {\n",
       "        vertical-align: top;\n",
       "    }\n",
       "\n",
       "    .dataframe thead th {\n",
       "        text-align: right;\n",
       "    }\n",
       "</style>\n",
       "<table border=\"1\" class=\"dataframe\">\n",
       "  <thead>\n",
       "    <tr style=\"text-align: right;\">\n",
       "      <th></th>\n",
       "      <th>user_id</th>\n",
       "      <th>anime_id</th>\n",
       "      <th>rating</th>\n",
       "      <th>user</th>\n",
       "      <th>anime</th>\n",
       "    </tr>\n",
       "  </thead>\n",
       "  <tbody>\n",
       "    <tr>\n",
       "      <th>0</th>\n",
       "      <td>457</td>\n",
       "      <td>18153</td>\n",
       "      <td>0.9</td>\n",
       "      <td>120</td>\n",
       "      <td>1377</td>\n",
       "    </tr>\n",
       "    <tr>\n",
       "      <th>1</th>\n",
       "      <td>4903</td>\n",
       "      <td>20507</td>\n",
       "      <td>0.7</td>\n",
       "      <td>1195</td>\n",
       "      <td>1216</td>\n",
       "    </tr>\n",
       "  </tbody>\n",
       "</table>\n",
       "</div>"
      ],
      "text/plain": [
       "   user_id  anime_id  rating  user  anime\n",
       "0      457     18153     0.9   120   1377\n",
       "1     4903     20507     0.7  1195   1216"
      ]
     },
     "execution_count": 49,
     "metadata": {},
     "output_type": "execute_result"
    }
   ],
   "source": [
    "rating_df.head(2)"
   ]
  },
  {
   "cell_type": "code",
   "execution_count": 50,
   "id": "689c7da7",
   "metadata": {},
   "outputs": [],
   "source": [
    "X = rating_df[[\"user\",\"anime\"]].values\n",
    "y = rating_df[\"rating\"]"
   ]
  },
  {
   "cell_type": "code",
   "execution_count": 51,
   "id": "a672b390",
   "metadata": {},
   "outputs": [],
   "source": [
    "test_size = 1000\n",
    "train_indices = rating_df.shape[0] - test_size"
   ]
  },
  {
   "cell_type": "code",
   "execution_count": 52,
   "id": "e9f8d25a",
   "metadata": {},
   "outputs": [],
   "source": [
    "X_train , X_test , y_train , y_test = (\n",
    "    X[:train_indices],\n",
    "    X[train_indices :],\n",
    "    y[:train_indices],\n",
    "    y[train_indices:],\n",
    ")"
   ]
  },
  {
   "cell_type": "code",
   "execution_count": 53,
   "id": "fc4da9e1",
   "metadata": {},
   "outputs": [
    {
     "data": {
      "text/plain": [
       "3245641"
      ]
     },
     "execution_count": 53,
     "metadata": {},
     "output_type": "execute_result"
    }
   ],
   "source": [
    "len(X_train)"
   ]
  },
  {
   "cell_type": "code",
   "execution_count": 54,
   "id": "f193090f",
   "metadata": {},
   "outputs": [
    {
     "data": {
      "text/plain": [
       "1000"
      ]
     },
     "execution_count": 54,
     "metadata": {},
     "output_type": "execute_result"
    }
   ],
   "source": [
    "len(X_test)"
   ]
  },
  {
   "cell_type": "code",
   "execution_count": 55,
   "id": "85ca89ed",
   "metadata": {},
   "outputs": [
    {
     "data": {
      "text/plain": [
       "numpy.ndarray"
      ]
     },
     "execution_count": 55,
     "metadata": {},
     "output_type": "execute_result"
    }
   ],
   "source": [
    "type(X_train)"
   ]
  },
  {
   "cell_type": "code",
   "execution_count": 56,
   "id": "9aac5641",
   "metadata": {},
   "outputs": [],
   "source": [
    "X_train_array = [X_train[: , 0] , X_train[: ,1]]\n",
    "X_test_array = [X_test[: , 0] , X_test[: ,1]]"
   ]
  },
  {
   "cell_type": "code",
   "execution_count": 57,
   "id": "bbb43f97",
   "metadata": {},
   "outputs": [
    {
     "data": {
      "text/plain": [
       "list"
      ]
     },
     "execution_count": 57,
     "metadata": {},
     "output_type": "execute_result"
    }
   ],
   "source": [
    "type(X_test_array)"
   ]
  },
  {
   "cell_type": "code",
   "execution_count": 58,
   "id": "ef8fee76",
   "metadata": {},
   "outputs": [
    {
     "data": {
      "text/plain": [
       "numpy.ndarray"
      ]
     },
     "execution_count": 58,
     "metadata": {},
     "output_type": "execute_result"
    }
   ],
   "source": [
    "type(X_test_array[0])"
   ]
  },
  {
   "cell_type": "markdown",
   "id": "da354557",
   "metadata": {},
   "source": [
    "#### MODEL ARCHITECTURE"
   ]
  },
  {
   "cell_type": "code",
   "execution_count": 59,
   "id": "f06ed397",
   "metadata": {},
   "outputs": [],
   "source": [
    "def RecommenderNet():\n",
    "    embedding_size =128\n",
    "\n",
    "    user = Input(name=\"user\",shape=[1])\n",
    "\n",
    "    user_embedding = Embedding(name=\"user_embedding\",input_dim=n_users,output_dim=embedding_size)(user)\n",
    "\n",
    "    anime = Input(name=\"anime\",shape=[1])\n",
    "\n",
    "    anime_embedding = Embedding(name=\"anime_embedding\",input_dim=n_anime,output_dim=embedding_size)(anime)\n",
    "\n",
    "    x = Dot(name=\"dot_product\" , normalize=True , axes=2)([user_embedding,anime_embedding])\n",
    "\n",
    "    x = Flatten()(x)\n",
    "\n",
    "    x = Dense(1,kernel_initializer='he_normal')(x)\n",
    "    x = BatchNormalization()(x)\n",
    "    x = Activation(\"sigmoid\")(x)\n",
    "\n",
    "    model = Model(inputs=[user,anime], outputs=x)\n",
    "    model.compile(loss=\"binary_crossentropy\",metrics=[\"mae\",\"mse\"],optimizer='Adam')\n",
    "    return model"
   ]
  },
  {
   "cell_type": "code",
   "execution_count": 60,
   "id": "9a10ec34",
   "metadata": {},
   "outputs": [],
   "source": [
    "model = RecommenderNet()"
   ]
  },
  {
   "cell_type": "code",
   "execution_count": 61,
   "id": "4fed2f26",
   "metadata": {},
   "outputs": [
    {
     "data": {
      "text/html": [
       "<pre style=\"white-space:pre;overflow-x:auto;line-height:normal;font-family:Menlo,'DejaVu Sans Mono',consolas,'Courier New',monospace\"><span style=\"font-weight: bold\">Model: \"functional\"</span>\n",
       "</pre>\n"
      ],
      "text/plain": [
       "\u001b[1mModel: \"functional\"\u001b[0m\n"
      ]
     },
     "metadata": {},
     "output_type": "display_data"
    },
    {
     "data": {
      "text/html": [
       "<pre style=\"white-space:pre;overflow-x:auto;line-height:normal;font-family:Menlo,'DejaVu Sans Mono',consolas,'Courier New',monospace\">┏━━━━━━━━━━━━━━━━━━━━━┳━━━━━━━━━━━━━━━━━━━┳━━━━━━━━━━━━┳━━━━━━━━━━━━━━━━━━━┓\n",
       "┃<span style=\"font-weight: bold\"> Layer (type)        </span>┃<span style=\"font-weight: bold\"> Output Shape      </span>┃<span style=\"font-weight: bold\">    Param # </span>┃<span style=\"font-weight: bold\"> Connected to      </span>┃\n",
       "┡━━━━━━━━━━━━━━━━━━━━━╇━━━━━━━━━━━━━━━━━━━╇━━━━━━━━━━━━╇━━━━━━━━━━━━━━━━━━━┩\n",
       "│ user (<span style=\"color: #0087ff; text-decoration-color: #0087ff\">InputLayer</span>)   │ (<span style=\"color: #00d7ff; text-decoration-color: #00d7ff\">None</span>, <span style=\"color: #00af00; text-decoration-color: #00af00\">1</span>)         │          <span style=\"color: #00af00; text-decoration-color: #00af00\">0</span> │ -                 │\n",
       "├─────────────────────┼───────────────────┼────────────┼───────────────────┤\n",
       "│ anime (<span style=\"color: #0087ff; text-decoration-color: #0087ff\">InputLayer</span>)  │ (<span style=\"color: #00d7ff; text-decoration-color: #00d7ff\">None</span>, <span style=\"color: #00af00; text-decoration-color: #00af00\">1</span>)         │          <span style=\"color: #00af00; text-decoration-color: #00af00\">0</span> │ -                 │\n",
       "├─────────────────────┼───────────────────┼────────────┼───────────────────┤\n",
       "│ user_embedding      │ (<span style=\"color: #00d7ff; text-decoration-color: #00d7ff\">None</span>, <span style=\"color: #00af00; text-decoration-color: #00af00\">1</span>, <span style=\"color: #00af00; text-decoration-color: #00af00\">128</span>)    │    <span style=\"color: #00af00; text-decoration-color: #00af00\">537,984</span> │ user[<span style=\"color: #00af00; text-decoration-color: #00af00\">0</span>][<span style=\"color: #00af00; text-decoration-color: #00af00\">0</span>]        │\n",
       "│ (<span style=\"color: #0087ff; text-decoration-color: #0087ff\">Embedding</span>)         │                   │            │                   │\n",
       "├─────────────────────┼───────────────────┼────────────┼───────────────────┤\n",
       "│ anime_embedding     │ (<span style=\"color: #00d7ff; text-decoration-color: #00d7ff\">None</span>, <span style=\"color: #00af00; text-decoration-color: #00af00\">1</span>, <span style=\"color: #00af00; text-decoration-color: #00af00\">128</span>)    │  <span style=\"color: #00af00; text-decoration-color: #00af00\">2,195,072</span> │ anime[<span style=\"color: #00af00; text-decoration-color: #00af00\">0</span>][<span style=\"color: #00af00; text-decoration-color: #00af00\">0</span>]       │\n",
       "│ (<span style=\"color: #0087ff; text-decoration-color: #0087ff\">Embedding</span>)         │                   │            │                   │\n",
       "├─────────────────────┼───────────────────┼────────────┼───────────────────┤\n",
       "│ dot_product (<span style=\"color: #0087ff; text-decoration-color: #0087ff\">Dot</span>)   │ (<span style=\"color: #00d7ff; text-decoration-color: #00d7ff\">None</span>, <span style=\"color: #00af00; text-decoration-color: #00af00\">1</span>, <span style=\"color: #00af00; text-decoration-color: #00af00\">1</span>)      │          <span style=\"color: #00af00; text-decoration-color: #00af00\">0</span> │ user_embedding[<span style=\"color: #00af00; text-decoration-color: #00af00\">0</span>… │\n",
       "│                     │                   │            │ anime_embedding[<span style=\"color: #00af00; text-decoration-color: #00af00\">…</span> │\n",
       "├─────────────────────┼───────────────────┼────────────┼───────────────────┤\n",
       "│ flatten (<span style=\"color: #0087ff; text-decoration-color: #0087ff\">Flatten</span>)   │ (<span style=\"color: #00d7ff; text-decoration-color: #00d7ff\">None</span>, <span style=\"color: #00af00; text-decoration-color: #00af00\">1</span>)         │          <span style=\"color: #00af00; text-decoration-color: #00af00\">0</span> │ dot_product[<span style=\"color: #00af00; text-decoration-color: #00af00\">0</span>][<span style=\"color: #00af00; text-decoration-color: #00af00\">0</span>] │\n",
       "├─────────────────────┼───────────────────┼────────────┼───────────────────┤\n",
       "│ dense (<span style=\"color: #0087ff; text-decoration-color: #0087ff\">Dense</span>)       │ (<span style=\"color: #00d7ff; text-decoration-color: #00d7ff\">None</span>, <span style=\"color: #00af00; text-decoration-color: #00af00\">1</span>)         │          <span style=\"color: #00af00; text-decoration-color: #00af00\">2</span> │ flatten[<span style=\"color: #00af00; text-decoration-color: #00af00\">0</span>][<span style=\"color: #00af00; text-decoration-color: #00af00\">0</span>]     │\n",
       "├─────────────────────┼───────────────────┼────────────┼───────────────────┤\n",
       "│ batch_normalization │ (<span style=\"color: #00d7ff; text-decoration-color: #00d7ff\">None</span>, <span style=\"color: #00af00; text-decoration-color: #00af00\">1</span>)         │          <span style=\"color: #00af00; text-decoration-color: #00af00\">4</span> │ dense[<span style=\"color: #00af00; text-decoration-color: #00af00\">0</span>][<span style=\"color: #00af00; text-decoration-color: #00af00\">0</span>]       │\n",
       "│ (<span style=\"color: #0087ff; text-decoration-color: #0087ff\">BatchNormalizatio…</span> │                   │            │                   │\n",
       "├─────────────────────┼───────────────────┼────────────┼───────────────────┤\n",
       "│ activation          │ (<span style=\"color: #00d7ff; text-decoration-color: #00d7ff\">None</span>, <span style=\"color: #00af00; text-decoration-color: #00af00\">1</span>)         │          <span style=\"color: #00af00; text-decoration-color: #00af00\">0</span> │ batch_normalizat… │\n",
       "│ (<span style=\"color: #0087ff; text-decoration-color: #0087ff\">Activation</span>)        │                   │            │                   │\n",
       "└─────────────────────┴───────────────────┴────────────┴───────────────────┘\n",
       "</pre>\n"
      ],
      "text/plain": [
       "┏━━━━━━━━━━━━━━━━━━━━━┳━━━━━━━━━━━━━━━━━━━┳━━━━━━━━━━━━┳━━━━━━━━━━━━━━━━━━━┓\n",
       "┃\u001b[1m \u001b[0m\u001b[1mLayer (type)       \u001b[0m\u001b[1m \u001b[0m┃\u001b[1m \u001b[0m\u001b[1mOutput Shape     \u001b[0m\u001b[1m \u001b[0m┃\u001b[1m \u001b[0m\u001b[1m   Param #\u001b[0m\u001b[1m \u001b[0m┃\u001b[1m \u001b[0m\u001b[1mConnected to     \u001b[0m\u001b[1m \u001b[0m┃\n",
       "┡━━━━━━━━━━━━━━━━━━━━━╇━━━━━━━━━━━━━━━━━━━╇━━━━━━━━━━━━╇━━━━━━━━━━━━━━━━━━━┩\n",
       "│ user (\u001b[38;5;33mInputLayer\u001b[0m)   │ (\u001b[38;5;45mNone\u001b[0m, \u001b[38;5;34m1\u001b[0m)         │          \u001b[38;5;34m0\u001b[0m │ -                 │\n",
       "├─────────────────────┼───────────────────┼────────────┼───────────────────┤\n",
       "│ anime (\u001b[38;5;33mInputLayer\u001b[0m)  │ (\u001b[38;5;45mNone\u001b[0m, \u001b[38;5;34m1\u001b[0m)         │          \u001b[38;5;34m0\u001b[0m │ -                 │\n",
       "├─────────────────────┼───────────────────┼────────────┼───────────────────┤\n",
       "│ user_embedding      │ (\u001b[38;5;45mNone\u001b[0m, \u001b[38;5;34m1\u001b[0m, \u001b[38;5;34m128\u001b[0m)    │    \u001b[38;5;34m537,984\u001b[0m │ user[\u001b[38;5;34m0\u001b[0m][\u001b[38;5;34m0\u001b[0m]        │\n",
       "│ (\u001b[38;5;33mEmbedding\u001b[0m)         │                   │            │                   │\n",
       "├─────────────────────┼───────────────────┼────────────┼───────────────────┤\n",
       "│ anime_embedding     │ (\u001b[38;5;45mNone\u001b[0m, \u001b[38;5;34m1\u001b[0m, \u001b[38;5;34m128\u001b[0m)    │  \u001b[38;5;34m2,195,072\u001b[0m │ anime[\u001b[38;5;34m0\u001b[0m][\u001b[38;5;34m0\u001b[0m]       │\n",
       "│ (\u001b[38;5;33mEmbedding\u001b[0m)         │                   │            │                   │\n",
       "├─────────────────────┼───────────────────┼────────────┼───────────────────┤\n",
       "│ dot_product (\u001b[38;5;33mDot\u001b[0m)   │ (\u001b[38;5;45mNone\u001b[0m, \u001b[38;5;34m1\u001b[0m, \u001b[38;5;34m1\u001b[0m)      │          \u001b[38;5;34m0\u001b[0m │ user_embedding[\u001b[38;5;34m0\u001b[0m… │\n",
       "│                     │                   │            │ anime_embedding[\u001b[38;5;34m…\u001b[0m │\n",
       "├─────────────────────┼───────────────────┼────────────┼───────────────────┤\n",
       "│ flatten (\u001b[38;5;33mFlatten\u001b[0m)   │ (\u001b[38;5;45mNone\u001b[0m, \u001b[38;5;34m1\u001b[0m)         │          \u001b[38;5;34m0\u001b[0m │ dot_product[\u001b[38;5;34m0\u001b[0m][\u001b[38;5;34m0\u001b[0m] │\n",
       "├─────────────────────┼───────────────────┼────────────┼───────────────────┤\n",
       "│ dense (\u001b[38;5;33mDense\u001b[0m)       │ (\u001b[38;5;45mNone\u001b[0m, \u001b[38;5;34m1\u001b[0m)         │          \u001b[38;5;34m2\u001b[0m │ flatten[\u001b[38;5;34m0\u001b[0m][\u001b[38;5;34m0\u001b[0m]     │\n",
       "├─────────────────────┼───────────────────┼────────────┼───────────────────┤\n",
       "│ batch_normalization │ (\u001b[38;5;45mNone\u001b[0m, \u001b[38;5;34m1\u001b[0m)         │          \u001b[38;5;34m4\u001b[0m │ dense[\u001b[38;5;34m0\u001b[0m][\u001b[38;5;34m0\u001b[0m]       │\n",
       "│ (\u001b[38;5;33mBatchNormalizatio…\u001b[0m │                   │            │                   │\n",
       "├─────────────────────┼───────────────────┼────────────┼───────────────────┤\n",
       "│ activation          │ (\u001b[38;5;45mNone\u001b[0m, \u001b[38;5;34m1\u001b[0m)         │          \u001b[38;5;34m0\u001b[0m │ batch_normalizat… │\n",
       "│ (\u001b[38;5;33mActivation\u001b[0m)        │                   │            │                   │\n",
       "└─────────────────────┴───────────────────┴────────────┴───────────────────┘\n"
      ]
     },
     "metadata": {},
     "output_type": "display_data"
    },
    {
     "data": {
      "text/html": [
       "<pre style=\"white-space:pre;overflow-x:auto;line-height:normal;font-family:Menlo,'DejaVu Sans Mono',consolas,'Courier New',monospace\"><span style=\"font-weight: bold\"> Total params: </span><span style=\"color: #00af00; text-decoration-color: #00af00\">2,733,062</span> (10.43 MB)\n",
       "</pre>\n"
      ],
      "text/plain": [
       "\u001b[1m Total params: \u001b[0m\u001b[38;5;34m2,733,062\u001b[0m (10.43 MB)\n"
      ]
     },
     "metadata": {},
     "output_type": "display_data"
    },
    {
     "data": {
      "text/html": [
       "<pre style=\"white-space:pre;overflow-x:auto;line-height:normal;font-family:Menlo,'DejaVu Sans Mono',consolas,'Courier New',monospace\"><span style=\"font-weight: bold\"> Trainable params: </span><span style=\"color: #00af00; text-decoration-color: #00af00\">2,733,060</span> (10.43 MB)\n",
       "</pre>\n"
      ],
      "text/plain": [
       "\u001b[1m Trainable params: \u001b[0m\u001b[38;5;34m2,733,060\u001b[0m (10.43 MB)\n"
      ]
     },
     "metadata": {},
     "output_type": "display_data"
    },
    {
     "data": {
      "text/html": [
       "<pre style=\"white-space:pre;overflow-x:auto;line-height:normal;font-family:Menlo,'DejaVu Sans Mono',consolas,'Courier New',monospace\"><span style=\"font-weight: bold\"> Non-trainable params: </span><span style=\"color: #00af00; text-decoration-color: #00af00\">2</span> (8.00 B)\n",
       "</pre>\n"
      ],
      "text/plain": [
       "\u001b[1m Non-trainable params: \u001b[0m\u001b[38;5;34m2\u001b[0m (8.00 B)\n"
      ]
     },
     "metadata": {},
     "output_type": "display_data"
    }
   ],
   "source": [
    "model.summary()"
   ]
  },
  {
   "cell_type": "code",
   "execution_count": 62,
   "id": "50d12c34",
   "metadata": {},
   "outputs": [],
   "source": [
    "start_lr = 0.00001\n",
    "min_lr = 0.0001\n",
    "max_lr = 0.00005\n",
    "batch_size = 10000\n",
    "\n",
    "ramup_epochs = 5\n",
    "sustain_epochs = 0\n",
    "exp_decay = 0.8\n",
    "\n",
    "def lrfn(epoch):\n",
    "    if epoch<ramup_epochs:\n",
    "        return (max_lr-start_lr)/ramup_epochs*epoch + start_lr\n",
    "    elif epoch<ramup_epochs+sustain_epochs:\n",
    "        return max_lr\n",
    "    else:\n",
    "        return (max_lr-min_lr) * exp_decay ** (epoch-ramup_epochs-sustain_epochs)+min_lr"
   ]
  },
  {
   "cell_type": "code",
   "execution_count": 63,
   "id": "d4e7753d",
   "metadata": {},
   "outputs": [],
   "source": [
    "lr_callback = LearningRateScheduler(lambda epoch:lrfn(epoch) , verbose=0)\n",
    "checkpoint_filepath = './weights.weights.h5'\n",
    "\n",
    "model_checkpoint = ModelCheckpoint(filepath=checkpoint_filepath,save_weights_only=True,monitor=\"val_loss\",mode=\"min\",save_best_only=True)\n",
    "\n",
    "early_stopping = EarlyStopping(patience=3,monitor=\"val_loss\",mode=\"min\",restore_best_weights=True)"
   ]
  },
  {
   "cell_type": "code",
   "execution_count": 64,
   "id": "4170a8c4",
   "metadata": {},
   "outputs": [],
   "source": [
    "my_callbacks = [model_checkpoint,lr_callback,early_stopping]"
   ]
  },
  {
   "cell_type": "code",
   "execution_count": 65,
   "id": "913715ac",
   "metadata": {},
   "outputs": [
    {
     "name": "stdout",
     "output_type": "stream",
     "text": [
      "Epoch 1/20\n",
      "\u001b[1m325/325\u001b[0m \u001b[32m━━━━━━━━━━━━━━━━━━━━\u001b[0m\u001b[37m\u001b[0m \u001b[1m19s\u001b[0m 38ms/step - loss: 0.7997 - mae: 0.3820 - mse: 0.1970 - val_loss: 0.7257 - val_mae: 0.3679 - val_mse: 0.1703 - learning_rate: 1.0000e-05\n",
      "Epoch 2/20\n",
      "\u001b[1m325/325\u001b[0m \u001b[32m━━━━━━━━━━━━━━━━━━━━\u001b[0m\u001b[37m\u001b[0m \u001b[1m13s\u001b[0m 39ms/step - loss: 0.7962 - mae: 0.3807 - mse: 0.1957 - val_loss: 0.7851 - val_mae: 0.3784 - val_mse: 0.1913 - learning_rate: 1.8000e-05\n",
      "Epoch 3/20\n",
      "\u001b[1m325/325\u001b[0m \u001b[32m━━━━━━━━━━━━━━━━━━━━\u001b[0m\u001b[37m\u001b[0m \u001b[1m12s\u001b[0m 35ms/step - loss: 0.7903 - mae: 0.3785 - mse: 0.1933 - val_loss: 0.7891 - val_mae: 0.3789 - val_mse: 0.1924 - learning_rate: 2.6000e-05\n",
      "Epoch 4/20\n",
      "\u001b[1m325/325\u001b[0m \u001b[32m━━━━━━━━━━━━━━━━━━━━\u001b[0m\u001b[37m\u001b[0m \u001b[1m12s\u001b[0m 36ms/step - loss: 0.7818 - mae: 0.3752 - mse: 0.1899 - val_loss: 0.7849 - val_mae: 0.3780 - val_mse: 0.1908 - learning_rate: 3.4000e-05\n"
     ]
    }
   ],
   "source": [
    "history = model.fit(\n",
    "    x=X_train_array,\n",
    "    y=y_train,\n",
    "    batch_size=batch_size,\n",
    "    epochs=20,\n",
    "    verbose=1,\n",
    "    validation_data = (X_test_array,y_test),\n",
    "    callbacks=my_callbacks\n",
    ")"
   ]
  },
  {
   "cell_type": "code",
   "execution_count": 66,
   "id": "a27129ba",
   "metadata": {},
   "outputs": [],
   "source": [
    "model.load_weights(checkpoint_filepath)"
   ]
  },
  {
   "cell_type": "code",
   "execution_count": 67,
   "id": "afbfa1bd",
   "metadata": {},
   "outputs": [
    {
     "data": {
      "image/png": "[encoded data removed]",
      "text/plain": [
       "<Figure size 800x1200 with 3 Axes>"
      ]
     },
     "metadata": {},
     "output_type": "display_data"
    }
   ],
   "source": [
    "metrics = [\"loss\", \"mae\", \"mse\"]\n",
    "\n",
    "# Create subplots\n",
    "fig, axes = plt.subplots(len(metrics), 1, figsize=(8, len(metrics) * 4))\n",
    "\n",
    "for i, metric in enumerate(metrics):\n",
    "    ax = axes[i]\n",
    "    ax.plot(history.history[metric][0:-2], marker=\"o\", label=f\"train {metric}\")\n",
    "    ax.plot(history.history[f\"val_{metric}\"][0:-2], marker=\"o\", label=f\"test {metric}\")\n",
    "    ax.set_title(f\"Model {metric.capitalize()}\")\n",
    "    ax.set_ylabel(metric.capitalize())\n",
    "    ax.set_xlabel(\"Epoch\")\n",
    "    ax.legend(loc=\"upper left\")\n",
    "    ax.grid(True)\n",
    "\n",
    "plt.tight_layout()\n",
    "plt.show()"
   ]
  },
  {
   "cell_type": "code",
   "execution_count": 68,
   "id": "c699cd58",
   "metadata": {},
   "outputs": [],
   "source": [
    "def extract_weights(name,model):\n",
    "    weight_layer = model.get_layer(name)\n",
    "    weights = weight_layer.get_weights()[0]\n",
    "    weights = weights/np.linalg.norm(weights,axis=1).reshape((-1,1))\n",
    "    return weights"
   ]
  },
  {
   "cell_type": "code",
   "execution_count": 69,
   "id": "54bd1ddf",
   "metadata": {},
   "outputs": [],
   "source": [
    "anime_weights = extract_weights(\"anime_embedding\",model)"
   ]
  },
  {
   "cell_type": "code",
   "execution_count": 70,
   "id": "ff49e0aa",
   "metadata": {},
   "outputs": [],
   "source": [
    "user_weights = extract_weights(\"user_embedding\",model)"
   ]
  },
  {
   "cell_type": "markdown",
   "id": "5cd691ef",
   "metadata": {},
   "source": [
    "#### READING ANIME.CSV"
   ]
  },
  {
   "cell_type": "code",
   "execution_count": 71,
   "id": "03e7d008",
   "metadata": {},
   "outputs": [
    {
     "data": {
      "text/html": [
       "<div>\n",
       "<style scoped>\n",
       "    .dataframe tbody tr th:only-of-type {\n",
       "        vertical-align: middle;\n",
       "    }\n",
       "\n",
       "    .dataframe tbody tr th {\n",
       "        vertical-align: top;\n",
       "    }\n",
       "\n",
       "    .dataframe thead th {\n",
       "        text-align: right;\n",
       "    }\n",
       "</style>\n",
       "<table border=\"1\" class=\"dataframe\">\n",
       "  <thead>\n",
       "    <tr style=\"text-align: right;\">\n",
       "      <th></th>\n",
       "      <th>MAL_ID</th>\n",
       "      <th>Name</th>\n",
       "      <th>Score</th>\n",
       "      <th>Genres</th>\n",
       "      <th>English name</th>\n",
       "      <th>Japanese name</th>\n",
       "      <th>Type</th>\n",
       "      <th>Episodes</th>\n",
       "      <th>Aired</th>\n",
       "      <th>Premiered</th>\n",
       "      <th>...</th>\n",
       "      <th>Score-10</th>\n",
       "      <th>Score-9</th>\n",
       "      <th>Score-8</th>\n",
       "      <th>Score-7</th>\n",
       "      <th>Score-6</th>\n",
       "      <th>Score-5</th>\n",
       "      <th>Score-4</th>\n",
       "      <th>Score-3</th>\n",
       "      <th>Score-2</th>\n",
       "      <th>Score-1</th>\n",
       "    </tr>\n",
       "  </thead>\n",
       "  <tbody>\n",
       "    <tr>\n",
       "      <th>0</th>\n",
       "      <td>1</td>\n",
       "      <td>Cowboy Bebop</td>\n",
       "      <td>8.78</td>\n",
       "      <td>Action, Adventure, Comedy, Drama, Sci-Fi, Space</td>\n",
       "      <td>Cowboy Bebop</td>\n",
       "      <td>カウボーイビバップ</td>\n",
       "      <td>TV</td>\n",
       "      <td>26</td>\n",
       "      <td>Apr 3, 1998 to Apr 24, 1999</td>\n",
       "      <td>Spring 1998</td>\n",
       "      <td>...</td>\n",
       "      <td>229170.0</td>\n",
       "      <td>182126.0</td>\n",
       "      <td>131625.0</td>\n",
       "      <td>62330.0</td>\n",
       "      <td>20688.0</td>\n",
       "      <td>8904.0</td>\n",
       "      <td>3184.0</td>\n",
       "      <td>1357.0</td>\n",
       "      <td>741.0</td>\n",
       "      <td>1580.0</td>\n",
       "    </tr>\n",
       "    <tr>\n",
       "      <th>1</th>\n",
       "      <td>5</td>\n",
       "      <td>Cowboy Bebop: Tengoku no Tobira</td>\n",
       "      <td>8.39</td>\n",
       "      <td>Action, Drama, Mystery, Sci-Fi, Space</td>\n",
       "      <td>Cowboy Bebop:The Movie</td>\n",
       "      <td>カウボーイビバップ 天国の扉</td>\n",
       "      <td>Movie</td>\n",
       "      <td>1</td>\n",
       "      <td>Sep 1, 2001</td>\n",
       "      <td>Unknown</td>\n",
       "      <td>...</td>\n",
       "      <td>30043.0</td>\n",
       "      <td>49201.0</td>\n",
       "      <td>49505.0</td>\n",
       "      <td>22632.0</td>\n",
       "      <td>5805.0</td>\n",
       "      <td>1877.0</td>\n",
       "      <td>577.0</td>\n",
       "      <td>221.0</td>\n",
       "      <td>109.0</td>\n",
       "      <td>379.0</td>\n",
       "    </tr>\n",
       "  </tbody>\n",
       "</table>\n",
       "<p>2 rows × 35 columns</p>\n",
       "</div>"
      ],
      "text/plain": [
       "   MAL_ID                             Name Score  \\\n",
       "0       1                     Cowboy Bebop  8.78   \n",
       "1       5  Cowboy Bebop: Tengoku no Tobira  8.39   \n",
       "\n",
       "                                            Genres            English name  \\\n",
       "0  Action, Adventure, Comedy, Drama, Sci-Fi, Space            Cowboy Bebop   \n",
       "1            Action, Drama, Mystery, Sci-Fi, Space  Cowboy Bebop:The Movie   \n",
       "\n",
       "    Japanese name   Type Episodes                        Aired    Premiered  \\\n",
       "0       カウボーイビバップ     TV       26  Apr 3, 1998 to Apr 24, 1999  Spring 1998   \n",
       "1  カウボーイビバップ 天国の扉  Movie        1                  Sep 1, 2001      Unknown   \n",
       "\n",
       "   ...  Score-10   Score-9   Score-8  Score-7  Score-6 Score-5 Score-4  \\\n",
       "0  ...  229170.0  182126.0  131625.0  62330.0  20688.0  8904.0  3184.0   \n",
       "1  ...   30043.0   49201.0   49505.0  22632.0   5805.0  1877.0   577.0   \n",
       "\n",
       "   Score-3  Score-2  Score-1  \n",
       "0   1357.0    741.0   1580.0  \n",
       "1    221.0    109.0    379.0  \n",
       "\n",
       "[2 rows x 35 columns]"
      ]
     },
     "execution_count": 71,
     "metadata": {},
     "output_type": "execute_result"
    }
   ],
   "source": [
    "df = pd.read_csv(INPUT_DIR+\"/anime.csv\",low_memory=True)\n",
    "df.head(2)"
   ]
  },
  {
   "cell_type": "code",
   "execution_count": 72,
   "id": "f8307d05",
   "metadata": {},
   "outputs": [],
   "source": [
    "df = df.replace(\"Unknown\",np.nan)"
   ]
  },
  {
   "cell_type": "code",
   "execution_count": 73,
   "id": "42b13bd7",
   "metadata": {},
   "outputs": [],
   "source": [
    "def getAnimeName(anime_id):\n",
    "    try:\n",
    "        name = df[df.anime_id == anime_id].eng_version.values[0]\n",
    "        if name is np.nan:\n",
    "            name = df[df.anime_id == anime_id].Name.values[0]\n",
    "    except:\n",
    "        print(\"Error\")\n",
    "    return name"
   ]
  },
  {
   "cell_type": "code",
   "execution_count": 74,
   "id": "b30ea15c",
   "metadata": {},
   "outputs": [],
   "source": [
    "df[\"anime_id\"] = df[\"MAL_ID\"]\n",
    "df[\"eng_version\"] = df[\"English name\"]\n",
    "df[\"eng_version\"] = df.anime_id.apply(lambda x:getAnimeName(x))"
   ]
  },
  {
   "cell_type": "code",
   "execution_count": 75,
   "id": "a272a073",
   "metadata": {},
   "outputs": [
    {
     "data": {
      "text/plain": [
       "'Fairy Tail'"
      ]
     },
     "execution_count": 75,
     "metadata": {},
     "output_type": "execute_result"
    }
   ],
   "source": [
    "getAnimeName(6702)"
   ]
  },
  {
   "cell_type": "code",
   "execution_count": 76,
   "id": "025e9473",
   "metadata": {},
   "outputs": [],
   "source": [
    "df.sort_values(by=[\"Score\"],\n",
    "               inplace=True,\n",
    "               ascending=False,\n",
    "               kind=\"quicksort\",\n",
    "               na_position=\"last\")"
   ]
  },
  {
   "cell_type": "code",
   "execution_count": 77,
   "id": "20f4069a",
   "metadata": {},
   "outputs": [
    {
     "data": {
      "text/plain": [
       "Index(['MAL_ID', 'Name', 'Score', 'Genres', 'English name', 'Japanese name',\n",
       "       'Type', 'Episodes', 'Aired', 'Premiered', 'Producers', 'Licensors',\n",
       "       'Studios', 'Source', 'Duration', 'Rating', 'Ranked', 'Popularity',\n",
       "       'Members', 'Favorites', 'Watching', 'Completed', 'On-Hold', 'Dropped',\n",
       "       'Plan to Watch', 'Score-10', 'Score-9', 'Score-8', 'Score-7', 'Score-6',\n",
       "       'Score-5', 'Score-4', 'Score-3', 'Score-2', 'Score-1', 'anime_id',\n",
       "       'eng_version'],\n",
       "      dtype='object')"
      ]
     },
     "execution_count": 77,
     "metadata": {},
     "output_type": "execute_result"
    }
   ],
   "source": [
    "df.columns"
   ]
  },
  {
   "cell_type": "code",
   "execution_count": 78,
   "id": "ac62f23a",
   "metadata": {},
   "outputs": [],
   "source": [
    "df = df[[\"anime_id\" , \"eng_version\",\"Score\",\"Genres\",\"Episodes\",\"Type\",\"Premiered\",\"Members\"]]"
   ]
  },
  {
   "cell_type": "code",
   "execution_count": 79,
   "id": "c2f7e3d1",
   "metadata": {},
   "outputs": [
    {
     "data": {
      "text/html": [
       "<div>\n",
       "<style scoped>\n",
       "    .dataframe tbody tr th:only-of-type {\n",
       "        vertical-align: middle;\n",
       "    }\n",
       "\n",
       "    .dataframe tbody tr th {\n",
       "        vertical-align: top;\n",
       "    }\n",
       "\n",
       "    .dataframe thead th {\n",
       "        text-align: right;\n",
       "    }\n",
       "</style>\n",
       "<table border=\"1\" class=\"dataframe\">\n",
       "  <thead>\n",
       "    <tr style=\"text-align: right;\">\n",
       "      <th></th>\n",
       "      <th>anime_id</th>\n",
       "      <th>eng_version</th>\n",
       "      <th>Score</th>\n",
       "      <th>Genres</th>\n",
       "      <th>Episodes</th>\n",
       "      <th>Type</th>\n",
       "      <th>Premiered</th>\n",
       "      <th>Members</th>\n",
       "    </tr>\n",
       "  </thead>\n",
       "  <tbody>\n",
       "    <tr>\n",
       "      <th>3971</th>\n",
       "      <td>5114</td>\n",
       "      <td>Fullmetal Alchemist:Brotherhood</td>\n",
       "      <td>9.19</td>\n",
       "      <td>Action, Military, Adventure, Comedy, Drama, Ma...</td>\n",
       "      <td>64</td>\n",
       "      <td>TV</td>\n",
       "      <td>Spring 2009</td>\n",
       "      <td>2248456</td>\n",
       "    </tr>\n",
       "    <tr>\n",
       "      <th>15926</th>\n",
       "      <td>40028</td>\n",
       "      <td>Attack on Titan Final Season</td>\n",
       "      <td>9.17</td>\n",
       "      <td>Action, Military, Mystery, Super Power, Drama,...</td>\n",
       "      <td>16</td>\n",
       "      <td>TV</td>\n",
       "      <td>Winter 2021</td>\n",
       "      <td>733260</td>\n",
       "    </tr>\n",
       "    <tr>\n",
       "      <th>5683</th>\n",
       "      <td>9253</td>\n",
       "      <td>Steins;Gate</td>\n",
       "      <td>9.11</td>\n",
       "      <td>Thriller, Sci-Fi</td>\n",
       "      <td>24</td>\n",
       "      <td>TV</td>\n",
       "      <td>Spring 2011</td>\n",
       "      <td>1771162</td>\n",
       "    </tr>\n",
       "    <tr>\n",
       "      <th>14963</th>\n",
       "      <td>38524</td>\n",
       "      <td>Attack on Titan Season 3 Part 2</td>\n",
       "      <td>9.1</td>\n",
       "      <td>Action, Drama, Fantasy, Military, Mystery, Sho...</td>\n",
       "      <td>10</td>\n",
       "      <td>TV</td>\n",
       "      <td>Spring 2019</td>\n",
       "      <td>1073626</td>\n",
       "    </tr>\n",
       "    <tr>\n",
       "      <th>9913</th>\n",
       "      <td>28977</td>\n",
       "      <td>Gintama Season 4</td>\n",
       "      <td>9.1</td>\n",
       "      <td>Action, Comedy, Historical, Parody, Samurai, S...</td>\n",
       "      <td>51</td>\n",
       "      <td>TV</td>\n",
       "      <td>Spring 2015</td>\n",
       "      <td>404121</td>\n",
       "    </tr>\n",
       "  </tbody>\n",
       "</table>\n",
       "</div>"
      ],
      "text/plain": [
       "       anime_id                      eng_version Score  \\\n",
       "3971       5114  Fullmetal Alchemist:Brotherhood  9.19   \n",
       "15926     40028     Attack on Titan Final Season  9.17   \n",
       "5683       9253                      Steins;Gate  9.11   \n",
       "14963     38524  Attack on Titan Season 3 Part 2   9.1   \n",
       "9913      28977                 Gintama Season 4   9.1   \n",
       "\n",
       "                                                  Genres Episodes Type  \\\n",
       "3971   Action, Military, Adventure, Comedy, Drama, Ma...       64   TV   \n",
       "15926  Action, Military, Mystery, Super Power, Drama,...       16   TV   \n",
       "5683                                    Thriller, Sci-Fi       24   TV   \n",
       "14963  Action, Drama, Fantasy, Military, Mystery, Sho...       10   TV   \n",
       "9913   Action, Comedy, Historical, Parody, Samurai, S...       51   TV   \n",
       "\n",
       "         Premiered  Members  \n",
       "3971   Spring 2009  2248456  \n",
       "15926  Winter 2021   733260  \n",
       "5683   Spring 2011  1771162  \n",
       "14963  Spring 2019  1073626  \n",
       "9913   Spring 2015   404121  "
      ]
     },
     "execution_count": 79,
     "metadata": {},
     "output_type": "execute_result"
    }
   ],
   "source": [
    "df.head()"
   ]
  },
  {
   "cell_type": "code",
   "execution_count": 80,
   "id": "642f6771",
   "metadata": {},
   "outputs": [],
   "source": [
    "def getAnimeFrame(anime,df):\n",
    "    if isinstance(anime,int):\n",
    "        return df[df.anime_id == anime]\n",
    "    if isinstance(anime,str):\n",
    "        return df[df.eng_version == anime]"
   ]
  },
  {
   "cell_type": "code",
   "execution_count": 81,
   "id": "9d735895",
   "metadata": {},
   "outputs": [
    {
     "data": {
      "text/html": [
       "<div>\n",
       "<style scoped>\n",
       "    .dataframe tbody tr th:only-of-type {\n",
       "        vertical-align: middle;\n",
       "    }\n",
       "\n",
       "    .dataframe tbody tr th {\n",
       "        vertical-align: top;\n",
       "    }\n",
       "\n",
       "    .dataframe thead th {\n",
       "        text-align: right;\n",
       "    }\n",
       "</style>\n",
       "<table border=\"1\" class=\"dataframe\">\n",
       "  <thead>\n",
       "    <tr style=\"text-align: right;\">\n",
       "      <th></th>\n",
       "      <th>anime_id</th>\n",
       "      <th>eng_version</th>\n",
       "      <th>Score</th>\n",
       "      <th>Genres</th>\n",
       "      <th>Episodes</th>\n",
       "      <th>Type</th>\n",
       "      <th>Premiered</th>\n",
       "      <th>Members</th>\n",
       "    </tr>\n",
       "  </thead>\n",
       "  <tbody>\n",
       "    <tr>\n",
       "      <th>15926</th>\n",
       "      <td>40028</td>\n",
       "      <td>Attack on Titan Final Season</td>\n",
       "      <td>9.17</td>\n",
       "      <td>Action, Military, Mystery, Super Power, Drama,...</td>\n",
       "      <td>16</td>\n",
       "      <td>TV</td>\n",
       "      <td>Winter 2021</td>\n",
       "      <td>733260</td>\n",
       "    </tr>\n",
       "  </tbody>\n",
       "</table>\n",
       "</div>"
      ],
      "text/plain": [
       "       anime_id                   eng_version Score  \\\n",
       "15926     40028  Attack on Titan Final Season  9.17   \n",
       "\n",
       "                                                  Genres Episodes Type  \\\n",
       "15926  Action, Military, Mystery, Super Power, Drama,...       16   TV   \n",
       "\n",
       "         Premiered  Members  \n",
       "15926  Winter 2021   733260  "
      ]
     },
     "execution_count": 81,
     "metadata": {},
     "output_type": "execute_result"
    }
   ],
   "source": [
    "getAnimeFrame(40028 , df)"
   ]
  },
  {
   "cell_type": "code",
   "execution_count": 82,
   "id": "f115372d",
   "metadata": {},
   "outputs": [
    {
     "data": {
      "text/html": [
       "<div>\n",
       "<style scoped>\n",
       "    .dataframe tbody tr th:only-of-type {\n",
       "        vertical-align: middle;\n",
       "    }\n",
       "\n",
       "    .dataframe tbody tr th {\n",
       "        vertical-align: top;\n",
       "    }\n",
       "\n",
       "    .dataframe thead th {\n",
       "        text-align: right;\n",
       "    }\n",
       "</style>\n",
       "<table border=\"1\" class=\"dataframe\">\n",
       "  <thead>\n",
       "    <tr style=\"text-align: right;\">\n",
       "      <th></th>\n",
       "      <th>anime_id</th>\n",
       "      <th>eng_version</th>\n",
       "      <th>Score</th>\n",
       "      <th>Genres</th>\n",
       "      <th>Episodes</th>\n",
       "      <th>Type</th>\n",
       "      <th>Premiered</th>\n",
       "      <th>Members</th>\n",
       "    </tr>\n",
       "  </thead>\n",
       "  <tbody>\n",
       "    <tr>\n",
       "      <th>5683</th>\n",
       "      <td>9253</td>\n",
       "      <td>Steins;Gate</td>\n",
       "      <td>9.11</td>\n",
       "      <td>Thriller, Sci-Fi</td>\n",
       "      <td>24</td>\n",
       "      <td>TV</td>\n",
       "      <td>Spring 2011</td>\n",
       "      <td>1771162</td>\n",
       "    </tr>\n",
       "  </tbody>\n",
       "</table>\n",
       "</div>"
      ],
      "text/plain": [
       "      anime_id  eng_version Score            Genres Episodes Type  \\\n",
       "5683      9253  Steins;Gate  9.11  Thriller, Sci-Fi       24   TV   \n",
       "\n",
       "        Premiered  Members  \n",
       "5683  Spring 2011  1771162  "
      ]
     },
     "execution_count": 82,
     "metadata": {},
     "output_type": "execute_result"
    }
   ],
   "source": [
    "getAnimeFrame(\"Steins;Gate\",df)"
   ]
  },
  {
   "cell_type": "markdown",
   "id": "81a4058a",
   "metadata": {},
   "source": [
    "#### ANIME_WITH_SYNOPSIS.CSV "
   ]
  },
  {
   "cell_type": "code",
   "execution_count": 83,
   "id": "1d96948c",
   "metadata": {},
   "outputs": [],
   "source": [
    "cols = [\"MAL_ID\",\"Name\",\"Genres\",\"sypnopsis\"]"
   ]
  },
  {
   "cell_type": "code",
   "execution_count": 84,
   "id": "31f9c28d",
   "metadata": {},
   "outputs": [],
   "source": [
    "synopsis_df = pd.read_csv(INPUT_DIR+\"/anime_with_synopsis.csv\",usecols=cols)"
   ]
  },
  {
   "cell_type": "code",
   "execution_count": 85,
   "id": "3b971552",
   "metadata": {},
   "outputs": [
    {
     "data": {
      "text/html": [
       "<div>\n",
       "<style scoped>\n",
       "    .dataframe tbody tr th:only-of-type {\n",
       "        vertical-align: middle;\n",
       "    }\n",
       "\n",
       "    .dataframe tbody tr th {\n",
       "        vertical-align: top;\n",
       "    }\n",
       "\n",
       "    .dataframe thead th {\n",
       "        text-align: right;\n",
       "    }\n",
       "</style>\n",
       "<table border=\"1\" class=\"dataframe\">\n",
       "  <thead>\n",
       "    <tr style=\"text-align: right;\">\n",
       "      <th></th>\n",
       "      <th>MAL_ID</th>\n",
       "      <th>Name</th>\n",
       "      <th>Genres</th>\n",
       "      <th>sypnopsis</th>\n",
       "    </tr>\n",
       "  </thead>\n",
       "  <tbody>\n",
       "    <tr>\n",
       "      <th>0</th>\n",
       "      <td>1</td>\n",
       "      <td>Cowboy Bebop</td>\n",
       "      <td>Action, Adventure, Comedy, Drama, Sci-Fi, Space</td>\n",
       "      <td>In the year 2071, humanity has colonized sever...</td>\n",
       "    </tr>\n",
       "  </tbody>\n",
       "</table>\n",
       "</div>"
      ],
      "text/plain": [
       "   MAL_ID          Name                                           Genres  \\\n",
       "0       1  Cowboy Bebop  Action, Adventure, Comedy, Drama, Sci-Fi, Space   \n",
       "\n",
       "                                           sypnopsis  \n",
       "0  In the year 2071, humanity has colonized sever...  "
      ]
     },
     "execution_count": 85,
     "metadata": {},
     "output_type": "execute_result"
    }
   ],
   "source": [
    "synopsis_df.head(1)"
   ]
  },
  {
   "cell_type": "code",
   "execution_count": 86,
   "id": "c4f96c45",
   "metadata": {},
   "outputs": [
    {
     "data": {
      "text/plain": [
       "Index(['MAL_ID', 'Name', 'Genres', 'sypnopsis'], dtype='object')"
      ]
     },
     "execution_count": 86,
     "metadata": {},
     "output_type": "execute_result"
    }
   ],
   "source": [
    "synopsis_df.columns"
   ]
  },
  {
   "cell_type": "code",
   "execution_count": 87,
   "id": "3c579223",
   "metadata": {},
   "outputs": [],
   "source": [
    "def getSynopsis(anime,synopsis_df):\n",
    "    if isinstance(anime,int):\n",
    "        return synopsis_df[synopsis_df.MAL_ID == anime].sypnopsis.values[0]\n",
    "    if isinstance(anime,str):\n",
    "        return synopsis_df[synopsis_df.Name == anime].sypnopsis.values[0]"
   ]
  },
  {
   "cell_type": "code",
   "execution_count": 88,
   "id": "74febc67",
   "metadata": {},
   "outputs": [
    {
     "data": {
      "text/plain": [
       "\"Gabi Braun and Falco Grice have been training their entire lives to inherit one of the seven titans under Marley's control and aid their nation in eradicating the Eldians on Paradis. However, just as all seems well for the two cadets, their peace is suddenly shaken by the arrival of Eren Yeager and the remaining members of the Survey Corps. Having finally reached the Yeager family basement and learned about the dark history surrounding the titans, the Survey Corps has at long last found the answer they so desperately fought to uncover. With the truth now in their hands, the group set out for the world beyond the walls. In Shingeki no Kyojin: The Final Season , two utterly different worlds collide as each party pursues its own agenda in the long-awaited conclusion to Paradis' fight for freedom.\""
      ]
     },
     "execution_count": 88,
     "metadata": {},
     "output_type": "execute_result"
    }
   ],
   "source": [
    "getSynopsis(40028 , synopsis_df)"
   ]
  },
  {
   "cell_type": "code",
   "execution_count": 89,
   "id": "6883b19e",
   "metadata": {},
   "outputs": [
    {
     "data": {
      "text/plain": [
       "'The self-proclaimed mad scientist Rintarou Okabe rents out a room in a rickety old building in Akihabara, where he indulges himself in his hobby of inventing prospective \"future gadgets\" with fellow lab members: Mayuri Shiina, his air-headed childhood friend, and Hashida Itaru, a perverted hacker nicknamed \"Daru.\" The three pass the time by tinkering with their most promising contraption yet, a machine dubbed the \"Phone Microwave,\" which performs the strange function of morphing bananas into piles of green gel. Though miraculous in itself, the phenomenon doesn\\'t provide anything concrete in Okabe\\'s search for a scientific breakthrough; that is, until the lab members are spurred into action by a string of mysterious happenings before stumbling upon an unexpected success—the Phone Microwave can send emails to the past, altering the flow of history. Adapted from the critically acclaimed visual novel by 5pb. and Nitroplus, Steins;Gate takes Okabe through the depths of scientific theory and practicality. Forced across the diverging threads of past and present, Okabe must shoulder the burdens that come with holding the key to the realm of time.'"
      ]
     },
     "execution_count": 89,
     "metadata": {},
     "output_type": "execute_result"
    }
   ],
   "source": [
    "getSynopsis(\"Steins;Gate\",synopsis_df)"
   ]
  },
  {
   "cell_type": "markdown",
   "id": "b9e8632e",
   "metadata": {},
   "source": [
    "### CONTENT/ITEM BASED RECOMMENDATION"
   ]
  },
  {
   "cell_type": "code",
   "execution_count": 90,
   "id": "f580733b",
   "metadata": {},
   "outputs": [],
   "source": [
    "pd.set_option(\"max_colwidth\",None)"
   ]
  },
  {
   "cell_type": "code",
   "execution_count": 91,
   "id": "77be67c7",
   "metadata": {},
   "outputs": [],
   "source": [
    "def find_similar_animes(name, anime_weights, anime2anime_encoded, anime2anime_decoded, df, synopsis_df, n=10, return_dist=False, neg=False):\n",
    "    # Get the anime_id for the given name\n",
    "    index = getAnimeFrame(name, df).anime_id.values[0]\n",
    "    encoded_index = anime2anime_encoded.get(index)\n",
    "\n",
    "    if encoded_index is None:\n",
    "        raise ValueError(f\"Encoded index not found for anime ID: {index}\")\n",
    "\n",
    "    weights = anime_weights\n",
    "\n",
    "    # Compute the similarity distances\n",
    "    dists = np.dot(weights, weights[encoded_index])  # Ensure weights[encoded_index] is a 1D array\n",
    "    sorted_dists = np.argsort(dists)\n",
    "\n",
    "    n = n + 1\n",
    "\n",
    "    # Select closest or farthest based on 'neg' flag\n",
    "    if neg:\n",
    "        closest = sorted_dists[:n]\n",
    "    else:\n",
    "        closest = sorted_dists[-n:]\n",
    "\n",
    "    # Return distances and closest indices if requested\n",
    "    if return_dist:\n",
    "        return dists, closest\n",
    "\n",
    "    # Build the similarity array\n",
    "    SimilarityArr = []\n",
    "    for close in closest:\n",
    "        decoded_id = anime2anime_decoded.get(close)\n",
    "       \n",
    "\n",
    "       \n",
    "        anime_frame = getAnimeFrame(decoded_id, df)\n",
    "\n",
    "        anime_name = anime_frame.eng_version.values[0]\n",
    "        genre = anime_frame.Genres.values[0]\n",
    "        similarity = dists[close]\n",
    "   \n",
    "\n",
    "        SimilarityArr.append({\n",
    "            \"anime_id\": decoded_id,\n",
    "            \"name\": anime_name,\n",
    "            \"similarity\": similarity,\n",
    "            \"genre\": genre,\n",
    "        })\n",
    "       \n",
    "\n",
    "    # Create a DataFrame with results and sort by similarity\n",
    "    Frame = pd.DataFrame(SimilarityArr).sort_values(by=\"similarity\", ascending=False)\n",
    "    return Frame[Frame.anime_id != index].drop(['anime_id'], axis=1)\n"
   ]
  },
  {
   "cell_type": "code",
   "execution_count": 92,
   "id": "7296b850",
   "metadata": {},
   "outputs": [
    {
     "data": {
      "text/html": [
       "<div>\n",
       "<style scoped>\n",
       "    .dataframe tbody tr th:only-of-type {\n",
       "        vertical-align: middle;\n",
       "    }\n",
       "\n",
       "    .dataframe tbody tr th {\n",
       "        vertical-align: top;\n",
       "    }\n",
       "\n",
       "    .dataframe thead th {\n",
       "        text-align: right;\n",
       "    }\n",
       "</style>\n",
       "<table border=\"1\" class=\"dataframe\">\n",
       "  <thead>\n",
       "    <tr style=\"text-align: right;\">\n",
       "      <th></th>\n",
       "      <th>name</th>\n",
       "      <th>similarity</th>\n",
       "      <th>genre</th>\n",
       "    </tr>\n",
       "  </thead>\n",
       "  <tbody>\n",
       "    <tr>\n",
       "      <th>9</th>\n",
       "      <td>Minami no Shima no Hanayome-san</td>\n",
       "      <td>0.402813</td>\n",
       "      <td>Kids, Music</td>\n",
       "    </tr>\n",
       "    <tr>\n",
       "      <th>8</th>\n",
       "      <td>Oh! Super Milk-chan Special</td>\n",
       "      <td>0.354238</td>\n",
       "      <td>Action, Sci-Fi, Comedy, Parody</td>\n",
       "    </tr>\n",
       "    <tr>\n",
       "      <th>7</th>\n",
       "      <td>Obake no Q-tarou (1985)</td>\n",
       "      <td>0.344404</td>\n",
       "      <td>Comedy, Kids, School, Slice of Life, Supernatural</td>\n",
       "    </tr>\n",
       "    <tr>\n",
       "      <th>6</th>\n",
       "      <td>Dance in the Vampire Bund: Special Edition</td>\n",
       "      <td>0.322534</td>\n",
       "      <td>Action, Supernatural, Vampire</td>\n",
       "    </tr>\n",
       "    <tr>\n",
       "      <th>5</th>\n",
       "      <td>D.C.II S.S.: Da Capo II Second Season</td>\n",
       "      <td>0.315219</td>\n",
       "      <td>Fantasy, Comedy, Harem, Romance, Drama</td>\n",
       "    </tr>\n",
       "    <tr>\n",
       "      <th>4</th>\n",
       "      <td>Kanokon: Manatsu no Dai Shanikusai Specials</td>\n",
       "      <td>0.312247</td>\n",
       "      <td>Ecchi</td>\n",
       "    </tr>\n",
       "    <tr>\n",
       "      <th>3</th>\n",
       "      <td>Candy☆Boy: Side Story For Archive</td>\n",
       "      <td>0.308588</td>\n",
       "      <td>Romance, School, Shoujo Ai</td>\n",
       "    </tr>\n",
       "    <tr>\n",
       "      <th>2</th>\n",
       "      <td>Crayon Shin-chan Movie 03: Unkokusai no Yabou</td>\n",
       "      <td>0.306526</td>\n",
       "      <td>Sci-Fi, Comedy, Historical, Seinen</td>\n",
       "    </tr>\n",
       "    <tr>\n",
       "      <th>1</th>\n",
       "      <td>My TYRANO:Together, Forever</td>\n",
       "      <td>0.305909</td>\n",
       "      <td>Adventure, Kids</td>\n",
       "    </tr>\n",
       "    <tr>\n",
       "      <th>0</th>\n",
       "      <td>Luck &amp; Logic</td>\n",
       "      <td>0.304991</td>\n",
       "      <td>Action, Fantasy</td>\n",
       "    </tr>\n",
       "  </tbody>\n",
       "</table>\n",
       "</div>"
      ],
      "text/plain": [
       "                                            name  similarity  \\\n",
       "9                Minami no Shima no Hanayome-san    0.402813   \n",
       "8                    Oh! Super Milk-chan Special    0.354238   \n",
       "7                        Obake no Q-tarou (1985)    0.344404   \n",
       "6     Dance in the Vampire Bund: Special Edition    0.322534   \n",
       "5          D.C.II S.S.: Da Capo II Second Season    0.315219   \n",
       "4    Kanokon: Manatsu no Dai Shanikusai Specials    0.312247   \n",
       "3              Candy☆Boy: Side Story For Archive    0.308588   \n",
       "2  Crayon Shin-chan Movie 03: Unkokusai no Yabou    0.306526   \n",
       "1                    My TYRANO:Together, Forever    0.305909   \n",
       "0                                   Luck & Logic    0.304991   \n",
       "\n",
       "                                               genre  \n",
       "9                                        Kids, Music  \n",
       "8                     Action, Sci-Fi, Comedy, Parody  \n",
       "7  Comedy, Kids, School, Slice of Life, Supernatural  \n",
       "6                      Action, Supernatural, Vampire  \n",
       "5             Fantasy, Comedy, Harem, Romance, Drama  \n",
       "4                                              Ecchi  \n",
       "3                         Romance, School, Shoujo Ai  \n",
       "2                 Sci-Fi, Comedy, Historical, Seinen  \n",
       "1                                    Adventure, Kids  \n",
       "0                                    Action, Fantasy  "
      ]
     },
     "execution_count": 92,
     "metadata": {},
     "output_type": "execute_result"
    }
   ],
   "source": [
    "find_similar_animes(\n",
    "    \"Steins;Gate\",\n",
    "    anime_weights,\n",
    "    anime2anime_encoded,\n",
    "    anime2anime_decoded,\n",
    "    df,\n",
    "    synopsis_df,\n",
    ")"
   ]
  },
  {
   "cell_type": "markdown",
   "id": "fa7742a3",
   "metadata": {},
   "source": [
    "### USER BASED RECOMMENDATION"
   ]
  },
  {
   "cell_type": "code",
   "execution_count": 93,
   "id": "1c67e27e",
   "metadata": {},
   "outputs": [],
   "source": [
    "def find_similar_users(item_input , user_weights , user2user_encoded , user2user_decoded, n=10 , return_dist=False,neg=False):\n",
    "    try:\n",
    "        index=item_input\n",
    "        encoded_index = user2user_encoded.get(index)\n",
    "\n",
    "        weights = user_weights\n",
    "\n",
    "        dists = np.dot(weights,weights[encoded_index])\n",
    "        sorted_dists = np.argsort(dists)\n",
    "\n",
    "        n=n+1\n",
    "\n",
    "        if neg:\n",
    "            closest = sorted_dists[:n]\n",
    "        else:\n",
    "            closest = sorted_dists[-n:]\n",
    "            \n",
    "\n",
    "        if return_dist:\n",
    "            return dists,closest\n",
    "        \n",
    "        SimilarityArr = []\n",
    "\n",
    "        for close in closest:\n",
    "            similarity = dists[close]\n",
    "\n",
    "            if isinstance(item_input,int):\n",
    "                decoded_id = user2user_decoded.get(close)\n",
    "                SimilarityArr.append({\n",
    "                    \"similar_users\" : decoded_id,\n",
    "                    \"similarity\" : similarity\n",
    "                })\n",
    "        similar_users = pd.DataFrame(SimilarityArr).sort_values(by=\"similarity\",ascending=False)\n",
    "        similar_users = similar_users[similar_users.similar_users != item_input]\n",
    "        return similar_users\n",
    "    except Exception as e:\n",
    "        print(\"Error Occured\",e)\n",
    "\n",
    "        \n",
    "        "
   ]
  },
  {
   "cell_type": "code",
   "execution_count": 94,
   "id": "66bf4335",
   "metadata": {},
   "outputs": [
    {
     "data": {
      "text/html": [
       "<div>\n",
       "<style scoped>\n",
       "    .dataframe tbody tr th:only-of-type {\n",
       "        vertical-align: middle;\n",
       "    }\n",
       "\n",
       "    .dataframe tbody tr th {\n",
       "        vertical-align: top;\n",
       "    }\n",
       "\n",
       "    .dataframe thead th {\n",
       "        text-align: right;\n",
       "    }\n",
       "</style>\n",
       "<table border=\"1\" class=\"dataframe\">\n",
       "  <thead>\n",
       "    <tr style=\"text-align: right;\">\n",
       "      <th></th>\n",
       "      <th>similar_users</th>\n",
       "      <th>similarity</th>\n",
       "    </tr>\n",
       "  </thead>\n",
       "  <tbody>\n",
       "    <tr>\n",
       "      <th>9</th>\n",
       "      <td>11319</td>\n",
       "      <td>0.285795</td>\n",
       "    </tr>\n",
       "    <tr>\n",
       "      <th>8</th>\n",
       "      <td>47</td>\n",
       "      <td>0.271152</td>\n",
       "    </tr>\n",
       "    <tr>\n",
       "      <th>7</th>\n",
       "      <td>9412</td>\n",
       "      <td>0.266380</td>\n",
       "    </tr>\n",
       "    <tr>\n",
       "      <th>6</th>\n",
       "      <td>13235</td>\n",
       "      <td>0.259894</td>\n",
       "    </tr>\n",
       "    <tr>\n",
       "      <th>5</th>\n",
       "      <td>9862</td>\n",
       "      <td>0.256286</td>\n",
       "    </tr>\n",
       "    <tr>\n",
       "      <th>4</th>\n",
       "      <td>6685</td>\n",
       "      <td>0.254609</td>\n",
       "    </tr>\n",
       "    <tr>\n",
       "      <th>3</th>\n",
       "      <td>10262</td>\n",
       "      <td>0.252361</td>\n",
       "    </tr>\n",
       "    <tr>\n",
       "      <th>2</th>\n",
       "      <td>547</td>\n",
       "      <td>0.231567</td>\n",
       "    </tr>\n",
       "    <tr>\n",
       "      <th>1</th>\n",
       "      <td>10045</td>\n",
       "      <td>0.229930</td>\n",
       "    </tr>\n",
       "    <tr>\n",
       "      <th>0</th>\n",
       "      <td>8772</td>\n",
       "      <td>0.225227</td>\n",
       "    </tr>\n",
       "  </tbody>\n",
       "</table>\n",
       "</div>"
      ],
      "text/plain": [
       "   similar_users  similarity\n",
       "9          11319    0.285795\n",
       "8             47    0.271152\n",
       "7           9412    0.266380\n",
       "6          13235    0.259894\n",
       "5           9862    0.256286\n",
       "4           6685    0.254609\n",
       "3          10262    0.252361\n",
       "2            547    0.231567\n",
       "1          10045    0.229930\n",
       "0           8772    0.225227"
      ]
     },
     "execution_count": 94,
     "metadata": {},
     "output_type": "execute_result"
    }
   ],
   "source": [
    "find_similar_users(int(11880),user_weights,user2user_encoded,user2user_decoded)"
   ]
  },
  {
   "cell_type": "code",
   "execution_count": 95,
   "id": "fa24904c",
   "metadata": {},
   "outputs": [],
   "source": [
    "def showWordCloud(all_genres):\n",
    "    genres_cloud = WordCloud(width=700,height=400,background_color='white',colormap='gnuplot').generate_from_frequencies(all_genres)\n",
    "    plt.figure(figsize=(10,8))\n",
    "    plt.imshow(genres_cloud,interpolation=\"bilinear\")\n",
    "    plt.axis(\"off\")\n",
    "    plt.show()"
   ]
  },
  {
   "cell_type": "code",
   "execution_count": 96,
   "id": "fd6e8b5c",
   "metadata": {},
   "outputs": [],
   "source": [
    "from collections import defaultdict"
   ]
  },
  {
   "cell_type": "code",
   "execution_count": 97,
   "id": "f3a7edcb",
   "metadata": {},
   "outputs": [
    {
     "data": {
      "text/html": [
       "<div>\n",
       "<style scoped>\n",
       "    .dataframe tbody tr th:only-of-type {\n",
       "        vertical-align: middle;\n",
       "    }\n",
       "\n",
       "    .dataframe tbody tr th {\n",
       "        vertical-align: top;\n",
       "    }\n",
       "\n",
       "    .dataframe thead th {\n",
       "        text-align: right;\n",
       "    }\n",
       "</style>\n",
       "<table border=\"1\" class=\"dataframe\">\n",
       "  <thead>\n",
       "    <tr style=\"text-align: right;\">\n",
       "      <th></th>\n",
       "      <th>anime_id</th>\n",
       "      <th>eng_version</th>\n",
       "      <th>Score</th>\n",
       "      <th>Genres</th>\n",
       "      <th>Episodes</th>\n",
       "      <th>Type</th>\n",
       "      <th>Premiered</th>\n",
       "      <th>Members</th>\n",
       "    </tr>\n",
       "  </thead>\n",
       "  <tbody>\n",
       "    <tr>\n",
       "      <th>3971</th>\n",
       "      <td>5114</td>\n",
       "      <td>Fullmetal Alchemist:Brotherhood</td>\n",
       "      <td>9.19</td>\n",
       "      <td>Action, Military, Adventure, Comedy, Drama, Magic, Fantasy, Shounen</td>\n",
       "      <td>64</td>\n",
       "      <td>TV</td>\n",
       "      <td>Spring 2009</td>\n",
       "      <td>2248456</td>\n",
       "    </tr>\n",
       "  </tbody>\n",
       "</table>\n",
       "</div>"
      ],
      "text/plain": [
       "      anime_id                      eng_version Score  \\\n",
       "3971      5114  Fullmetal Alchemist:Brotherhood  9.19   \n",
       "\n",
       "                                                                   Genres  \\\n",
       "3971  Action, Military, Adventure, Comedy, Drama, Magic, Fantasy, Shounen   \n",
       "\n",
       "     Episodes Type    Premiered  Members  \n",
       "3971       64   TV  Spring 2009  2248456  "
      ]
     },
     "execution_count": 97,
     "metadata": {},
     "output_type": "execute_result"
    }
   ],
   "source": [
    "df.head(1)"
   ]
  },
  {
   "cell_type": "code",
   "execution_count": 98,
   "id": "c2f11ad0",
   "metadata": {},
   "outputs": [],
   "source": [
    "def getFavGenre(frame , plot=False):\n",
    "    frame.dropna(inplace=False)\n",
    "    all_genres = defaultdict(int)\n",
    "\n",
    "    genres_list = []\n",
    "    for genres in frame[\"Genres\"]:\n",
    "        if isinstance(genres,str):\n",
    "            for genre in genres.split(','):\n",
    "                genres_list.append(genre)\n",
    "                all_genres[genre.strip()] += 1\n",
    "\n",
    "    if plot:\n",
    "        showWordCloud(all_genres)\n",
    "    \n",
    "    return genres_list\n",
    "\n"
   ]
  },
  {
   "cell_type": "code",
   "execution_count": 99,
   "id": "54acf379",
   "metadata": {},
   "outputs": [
    {
     "data": {
      "text/html": [
       "<div>\n",
       "<style scoped>\n",
       "    .dataframe tbody tr th:only-of-type {\n",
       "        vertical-align: middle;\n",
       "    }\n",
       "\n",
       "    .dataframe tbody tr th {\n",
       "        vertical-align: top;\n",
       "    }\n",
       "\n",
       "    .dataframe thead th {\n",
       "        text-align: right;\n",
       "    }\n",
       "</style>\n",
       "<table border=\"1\" class=\"dataframe\">\n",
       "  <thead>\n",
       "    <tr style=\"text-align: right;\">\n",
       "      <th></th>\n",
       "      <th>user_id</th>\n",
       "      <th>anime_id</th>\n",
       "      <th>rating</th>\n",
       "      <th>user</th>\n",
       "      <th>anime</th>\n",
       "    </tr>\n",
       "  </thead>\n",
       "  <tbody>\n",
       "    <tr>\n",
       "      <th>0</th>\n",
       "      <td>457</td>\n",
       "      <td>18153</td>\n",
       "      <td>0.9</td>\n",
       "      <td>120</td>\n",
       "      <td>1377</td>\n",
       "    </tr>\n",
       "    <tr>\n",
       "      <th>1</th>\n",
       "      <td>4903</td>\n",
       "      <td>20507</td>\n",
       "      <td>0.7</td>\n",
       "      <td>1195</td>\n",
       "      <td>1216</td>\n",
       "    </tr>\n",
       "  </tbody>\n",
       "</table>\n",
       "</div>"
      ],
      "text/plain": [
       "   user_id  anime_id  rating  user  anime\n",
       "0      457     18153     0.9   120   1377\n",
       "1     4903     20507     0.7  1195   1216"
      ]
     },
     "execution_count": 99,
     "metadata": {},
     "output_type": "execute_result"
    }
   ],
   "source": [
    "rating_df.head(2)"
   ]
  },
  {
   "cell_type": "code",
   "execution_count": 100,
   "id": "3953988a",
   "metadata": {},
   "outputs": [],
   "source": [
    "def get_user_preferences(user_id , rating_df , df ,plot=False):\n",
    "\n",
    "    animes_watched_by_user = rating_df[rating_df.user_id == user_id]\n",
    "\n",
    "    user_rating_percentile = np.percentile(animes_watched_by_user.rating , 75)\n",
    "\n",
    "    animes_watched_by_user = animes_watched_by_user[animes_watched_by_user.rating >= user_rating_percentile]\n",
    "\n",
    "    top_animes_user = (\n",
    "        animes_watched_by_user.sort_values(by=\"rating\" , ascending=False).anime_id.values\n",
    "    )\n",
    "\n",
    "    anime_df_rows = df[df[\"anime_id\"].isin(top_animes_user)]\n",
    "    anime_df_rows = anime_df_rows[[\"eng_version\",\"Genres\"]]\n",
    "\n",
    "    if plot:\n",
    "        getFavGenre(anime_df_rows,plot)\n",
    "\n",
    "\n",
    "    return anime_df_rows\n",
    "\n",
    "\n"
   ]
  },
  {
   "cell_type": "code",
   "execution_count": 101,
   "id": "2ee6dc9d",
   "metadata": {},
   "outputs": [
    {
     "data": {
      "image/png": "[encoded data removed]",
      "text/plain": [
       "<Figure size 1000x800 with 1 Axes>"
      ]
     },
     "metadata": {},
     "output_type": "display_data"
    },
    {
     "data": {
      "text/html": [
       "<div>\n",
       "<style scoped>\n",
       "    .dataframe tbody tr th:only-of-type {\n",
       "        vertical-align: middle;\n",
       "    }\n",
       "\n",
       "    .dataframe tbody tr th {\n",
       "        vertical-align: top;\n",
       "    }\n",
       "\n",
       "    .dataframe thead th {\n",
       "        text-align: right;\n",
       "    }\n",
       "</style>\n",
       "<table border=\"1\" class=\"dataframe\">\n",
       "  <thead>\n",
       "    <tr style=\"text-align: right;\">\n",
       "      <th></th>\n",
       "      <th>eng_version</th>\n",
       "      <th>Genres</th>\n",
       "    </tr>\n",
       "  </thead>\n",
       "  <tbody>\n",
       "    <tr>\n",
       "      <th>3971</th>\n",
       "      <td>Fullmetal Alchemist:Brotherhood</td>\n",
       "      <td>Action, Military, Adventure, Comedy, Drama, Magic, Fantasy, Shounen</td>\n",
       "    </tr>\n",
       "    <tr>\n",
       "      <th>9913</th>\n",
       "      <td>Gintama Season 4</td>\n",
       "      <td>Action, Comedy, Historical, Parody, Samurai, Sci-Fi, Shounen</td>\n",
       "    </tr>\n",
       "    <tr>\n",
       "      <th>6474</th>\n",
       "      <td>Hunter x Hunter</td>\n",
       "      <td>Action, Adventure, Fantasy, Shounen, Super Power</td>\n",
       "    </tr>\n",
       "    <tr>\n",
       "      <th>6006</th>\n",
       "      <td>Gintama Season 2</td>\n",
       "      <td>Action, Sci-Fi, Comedy, Historical, Parody, Samurai, Shounen</td>\n",
       "    </tr>\n",
       "    <tr>\n",
       "      <th>741</th>\n",
       "      <td>Legend of the Galactic Heroes</td>\n",
       "      <td>Military, Sci-Fi, Space, Drama</td>\n",
       "    </tr>\n",
       "    <tr>\n",
       "      <th>...</th>\n",
       "      <td>...</td>\n",
       "      <td>...</td>\n",
       "    </tr>\n",
       "    <tr>\n",
       "      <th>2575</th>\n",
       "      <td>Shootfighter Tekken</td>\n",
       "      <td>Action, Martial Arts, Shounen</td>\n",
       "    </tr>\n",
       "    <tr>\n",
       "      <th>8064</th>\n",
       "      <td>Samurai Flamenco</td>\n",
       "      <td>Action, Comedy, Parody, Super Power</td>\n",
       "    </tr>\n",
       "    <tr>\n",
       "      <th>510</th>\n",
       "      <td>Venus Wars</td>\n",
       "      <td>Action, Sci-Fi, Adventure, Space</td>\n",
       "    </tr>\n",
       "    <tr>\n",
       "      <th>6864</th>\n",
       "      <td>Saint Seiya Omega</td>\n",
       "      <td>Action, Adventure, Fantasy, Shounen</td>\n",
       "    </tr>\n",
       "    <tr>\n",
       "      <th>9796</th>\n",
       "      <td>Garo:Crimson Moon</td>\n",
       "      <td>Action, Demons, Fantasy, Magic, Supernatural</td>\n",
       "    </tr>\n",
       "  </tbody>\n",
       "</table>\n",
       "<p>190 rows × 2 columns</p>\n",
       "</div>"
      ],
      "text/plain": [
       "                          eng_version  \\\n",
       "3971  Fullmetal Alchemist:Brotherhood   \n",
       "9913                 Gintama Season 4   \n",
       "6474                  Hunter x Hunter   \n",
       "6006                 Gintama Season 2   \n",
       "741     Legend of the Galactic Heroes   \n",
       "...                               ...   \n",
       "2575              Shootfighter Tekken   \n",
       "8064                 Samurai Flamenco   \n",
       "510                        Venus Wars   \n",
       "6864                Saint Seiya Omega   \n",
       "9796                Garo:Crimson Moon   \n",
       "\n",
       "                                                                   Genres  \n",
       "3971  Action, Military, Adventure, Comedy, Drama, Magic, Fantasy, Shounen  \n",
       "9913         Action, Comedy, Historical, Parody, Samurai, Sci-Fi, Shounen  \n",
       "6474                     Action, Adventure, Fantasy, Shounen, Super Power  \n",
       "6006         Action, Sci-Fi, Comedy, Historical, Parody, Samurai, Shounen  \n",
       "741                                        Military, Sci-Fi, Space, Drama  \n",
       "...                                                                   ...  \n",
       "2575                                        Action, Martial Arts, Shounen  \n",
       "8064                                  Action, Comedy, Parody, Super Power  \n",
       "510                                      Action, Sci-Fi, Adventure, Space  \n",
       "6864                                  Action, Adventure, Fantasy, Shounen  \n",
       "9796                         Action, Demons, Fantasy, Magic, Supernatural  \n",
       "\n",
       "[190 rows x 2 columns]"
      ]
     },
     "execution_count": 101,
     "metadata": {},
     "output_type": "execute_result"
    }
   ],
   "source": [
    "get_user_preferences(11880 , rating_df, df , plot=True)"
   ]
  },
  {
   "cell_type": "code",
   "execution_count": 102,
   "id": "b9a6bafb",
   "metadata": {},
   "outputs": [],
   "source": [
    "def get_user_recommendations(similar_users , user_pref ,df , synopsis_df, rating_df, n=10):\n",
    "\n",
    "    recommended_animes = []\n",
    "    anime_list = []\n",
    "\n",
    "    for user_id in similar_users.similar_users.values:\n",
    "        pref_list = get_user_preferences(int(user_id) , rating_df, df)\n",
    "\n",
    "        pref_list = pref_list[~pref_list.eng_version.isin(user_pref.eng_version.values)]\n",
    "\n",
    "        if not pref_list.empty:\n",
    "            anime_list.append(pref_list.eng_version.values)\n",
    "\n",
    "    if anime_list:\n",
    "            anime_list = pd.DataFrame(anime_list)\n",
    "\n",
    "            sorted_list = pd.DataFrame(pd.Series(anime_list.values.ravel()).value_counts()).head(n)\n",
    "\n",
    "            for i,anime_name in enumerate(sorted_list.index):\n",
    "                n_user_pref = sorted_list[sorted_list.index == anime_name].values[0][0]\n",
    "\n",
    "                if isinstance(anime_name,str):\n",
    "                    frame = getAnimeFrame(anime_name,df)\n",
    "                    anime_id = frame.anime_id.values[0]\n",
    "                    genre = frame.Genres.values[0]\n",
    "                    synopsis = getSynopsis(int(anime_id),synopsis_df)\n",
    "\n",
    "                    recommended_animes.append({\n",
    "                        \"n\" : n_user_pref,\n",
    "                        \"anime_name\" : anime_name,\n",
    "                        \"Genres\" : genre,\n",
    "                        \"Synopsis\": synopsis\n",
    "                    })\n",
    "    return pd.DataFrame(recommended_animes).head(n)\n",
    "            \n",
    "\n",
    "\n",
    "\n",
    "    "
   ]
  },
  {
   "cell_type": "code",
   "execution_count": 103,
   "id": "a0c0f962",
   "metadata": {},
   "outputs": [],
   "source": [
    "similar_users =find_similar_users(int(11880),user_weights,user2user_encoded,user2user_decoded)"
   ]
  },
  {
   "cell_type": "code",
   "execution_count": 104,
   "id": "25e33468",
   "metadata": {},
   "outputs": [],
   "source": [
    "user_pref = get_user_preferences(11880 , rating_df, df , plot=False)"
   ]
  },
  {
   "cell_type": "code",
   "execution_count": 105,
   "id": "4d6099f8",
   "metadata": {},
   "outputs": [
    {
     "data": {
      "text/html": [
       "<div>\n",
       "<style scoped>\n",
       "    .dataframe tbody tr th:only-of-type {\n",
       "        vertical-align: middle;\n",
       "    }\n",
       "\n",
       "    .dataframe tbody tr th {\n",
       "        vertical-align: top;\n",
       "    }\n",
       "\n",
       "    .dataframe thead th {\n",
       "        text-align: right;\n",
       "    }\n",
       "</style>\n",
       "<table border=\"1\" class=\"dataframe\">\n",
       "  <thead>\n",
       "    <tr style=\"text-align: right;\">\n",
       "      <th></th>\n",
       "      <th>n</th>\n",
       "      <th>anime_name</th>\n",
       "      <th>Genres</th>\n",
       "      <th>Synopsis</th>\n",
       "    </tr>\n",
       "  </thead>\n",
       "  <tbody>\n",
       "    <tr>\n",
       "      <th>0</th>\n",
       "      <td>8</td>\n",
       "      <td>Attack on Titan</td>\n",
       "      <td>Action, Military, Mystery, Super Power, Drama, Fantasy, Shounen</td>\n",
       "      <td>Centuries ago, mankind was slaughtered to near extinction by monstrous humanoid creatures called titans, forcing humans to hide in fear behind enormous concentric walls. What makes these giants truly terrifying is that their taste for human flesh is not born out of hunger but what appears to be out of pleasure. To ensure their survival, the remnants of humanity began living within defensive barriers, resulting in one hundred years without a single titan encounter. However, that fragile calm is soon shattered when a colossal titan manages to breach the supposedly impregnable outer wall, reigniting the fight for survival against the man-eating abominations. After witnessing a horrific personal loss at the hands of the invading creatures, Eren Yeager dedicates his life to their eradication by enlisting into the Survey Corps, an elite military unit that combats the merciless humanoids outside the protection of the walls. Based on Hajime Isayama's award-winning manga, Shingeki no Kyojin follows Eren, along with his adopted sister Mikasa Ackerman and his childhood friend Armin Arlert, as they join the brutal war against the titans and race to discover a way of defeating them before the last walls are breached.</td>\n",
       "    </tr>\n",
       "  </tbody>\n",
       "</table>\n",
       "</div>"
      ],
      "text/plain": [
       "   n       anime_name  \\\n",
       "0  8  Attack on Titan   \n",
       "\n",
       "                                                            Genres  \\\n",
       "0  Action, Military, Mystery, Super Power, Drama, Fantasy, Shounen   \n",
       "\n",
       "                                                                                                                                                                                                                                                                                                                                                                                                                                                                                                                                                                                                                                                                                                                                                                                                                                                                                                                                                                                                                                                                                                                                                                                                                                                                  Synopsis  \n",
       "0  Centuries ago, mankind was slaughtered to near extinction by monstrous humanoid creatures called titans, forcing humans to hide in fear behind enormous concentric walls. What makes these giants truly terrifying is that their taste for human flesh is not born out of hunger but what appears to be out of pleasure. To ensure their survival, the remnants of humanity began living within defensive barriers, resulting in one hundred years without a single titan encounter. However, that fragile calm is soon shattered when a colossal titan manages to breach the supposedly impregnable outer wall, reigniting the fight for survival against the man-eating abominations. After witnessing a horrific personal loss at the hands of the invading creatures, Eren Yeager dedicates his life to their eradication by enlisting into the Survey Corps, an elite military unit that combats the merciless humanoids outside the protection of the walls. Based on Hajime Isayama's award-winning manga, Shingeki no Kyojin follows Eren, along with his adopted sister Mikasa Ackerman and his childhood friend Armin Arlert, as they join the brutal war against the titans and race to discover a way of defeating them before the last walls are breached.  "
      ]
     },
     "execution_count": 105,
     "metadata": {},
     "output_type": "execute_result"
    }
   ],
   "source": [
    "get_user_recommendations(similar_users,user_pref,df, synopsis_df,rating_df,n=1)"
   ]
  },
  {
   "cell_type": "markdown",
   "id": "312c5e8e",
   "metadata": {},
   "source": [
    "### HYBRID RECOMMENDER SYSTEM"
   ]
  },
  {
   "cell_type": "code",
   "execution_count": 106,
   "id": "73365cbb",
   "metadata": {},
   "outputs": [],
   "source": [
    "def hybrid_recommendation(user_id , user_weight=0.5, content_weight =0.5):\n",
    "\n",
    "    ## User Recommndation\n",
    "\n",
    "    similar_users =find_similar_users(user_id,user_weights,user2user_encoded,user2user_decoded)\n",
    "    user_pref = get_user_preferences(user_id , rating_df, df)\n",
    "    user_recommended_animes =get_user_recommendations(similar_users,user_pref,df, synopsis_df,rating_df)\n",
    "    \n",
    "\n",
    "    user_recommended_anime_list = user_recommended_animes[\"anime_name\"].tolist()\n",
    "    print(user_recommended_anime_list)\n",
    "\n",
    "    #### Content recommendation\n",
    "    content_recommended_animes = []\n",
    "\n",
    "    for anime in user_recommended_anime_list:\n",
    "        similar_animes = find_similar_animes(anime, anime_weights, anime2anime_encoded, anime2anime_decoded, df, synopsis_df)\n",
    "\n",
    "        if similar_animes is not None and not similar_animes.empty:\n",
    "            content_recommended_animes.extend(similar_animes[\"name\"].tolist())\n",
    "        else:\n",
    "            print(f\"No similar anime found {anime}\")\n",
    "    \n",
    "    combined_scores = {}\n",
    "\n",
    "    for anime in user_recommended_anime_list:\n",
    "        combined_scores[anime] = combined_scores.get(anime,0) + user_weight\n",
    "\n",
    "    for anime in content_recommended_animes:\n",
    "        combined_scores[anime] = combined_scores.get(anime,0) + content_weight  \n",
    "\n",
    "    sorted_animes = sorted(combined_scores.items() , key=lambda x:x[1] , reverse=True)\n",
    "\n",
    "    return [anime for anime , score in sorted_animes[:10]] \n",
    "\n"
   ]
  },
  {
   "cell_type": "code",
   "execution_count": 107,
   "id": "0ff78fc1",
   "metadata": {},
   "outputs": [
    {
     "name": "stdout",
     "output_type": "stream",
     "text": [
      "['Attack on Titan', 'Sword Art Online', 'Spirited Away', 'Toradora!', \"KonoSuba:God's Blessing on This Wonderful World!\", 'Kaguya-sama:Love is War', 'Love, Chunibyo & Other Delusions!', 'Your Name.', 'Death Note', 'The Devil is a Part-Timer!']\n"
     ]
    },
    {
     "data": {
      "text/plain": [
       "['Attack on Titan',\n",
       " 'Sword Art Online',\n",
       " 'Spirited Away',\n",
       " 'Toradora!',\n",
       " \"KonoSuba:God's Blessing on This Wonderful World!\",\n",
       " 'Kaguya-sama:Love is War',\n",
       " 'Love, Chunibyo & Other Delusions!',\n",
       " 'Your Name.',\n",
       " 'Death Note',\n",
       " 'The Devil is a Part-Timer!']"
      ]
     },
     "execution_count": 107,
     "metadata": {},
     "output_type": "execute_result"
    }
   ],
   "source": [
    "hybrid_recommendation(11880)"
   ]
  }
 ],
 "metadata": {
  "kernelspec": {
   "display_name": "venv",
   "language": "python",
   "name": "python3"
  },
  "language_info": {
   "codemirror_mode": {
    "name": "ipython",
    "version": 3
   },
   "file_extension": ".py",
   "mimetype": "text/x-python",
   "name": "python",
   "nbconvert_exporter": "python",
   "pygments_lexer": "ipython3",
   "version": "3.12.2"
  }
 },
 "nbformat": 4,
 "nbformat_minor": 5
}
